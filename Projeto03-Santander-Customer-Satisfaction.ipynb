{
 "cells": [
  {
   "cell_type": "markdown",
   "id": "3b3715ef",
   "metadata": {},
   "source": [
    "# Santander Customer Satisfaction\n",
    "\n",
    "## Problema de Negócio\n",
    "\n",
    "A satisfação do cliente é uma medida fundamental de sucesso. Clientes insatisfeitos cancelam seus serviços e raramente expressam sua insatisfação antes de sair. Clientes satisfeitos, por outro lado, se tornam defensores da marca! \n",
    "\n",
    "O Banco Santander está pedindo para ajudá-los a identificar clientes insatisfeitos no início do relacionamento. Isso permitiria que o Santander adotasse medidas proativas para melhorar a felicidade de um cliente antes que seja tarde demais. \n",
    "\n",
    "## Recursos e métrica requerida\n",
    "Os dados fornecidos contém centenas de recursos anônimos para prever se um cliente está satisfeito ou insatisfeito com sua experiência bancária.\n",
    "\n",
    "A métrica desejada é a ROC AUC superior a 70%.\n"
   ]
  },
  {
   "cell_type": "code",
   "execution_count": 1,
   "id": "a93bafc8",
   "metadata": {},
   "outputs": [],
   "source": [
    "import numpy as np\n",
    "import pandas as pd\n",
    "import matplotlib.pyplot as plt\n",
    "import seaborn as sns\n",
    "import time\n",
    "from sklearn.feature_selection import VarianceThreshold\n",
    "from sklearn.preprocessing import StandardScaler, MinMaxScaler\n",
    "from sklearn.model_selection import train_test_split, cross_val_score, GridSearchCV\n",
    "from sklearn.decomposition import PCA\n",
    "from sklearn.discriminant_analysis import LinearDiscriminantAnalysis\n",
    "from imblearn.over_sampling import SMOTE\n",
    "from imblearn.pipeline import make_pipeline\n",
    "from sklearn.tree import ExtraTreeClassifier\n",
    "from sklearn.ensemble import RandomForestClassifier\n",
    "from xgboost import XGBClassifier\n",
    "from sklearn.metrics import roc_auc_score, classification_report, RocCurveDisplay"
   ]
  },
  {
   "cell_type": "code",
   "execution_count": 2,
   "id": "ad126052",
   "metadata": {},
   "outputs": [],
   "source": [
    "# Lê o dataset de treino\n",
    "df_train = pd.read_csv(\"train.csv\")"
   ]
  },
  {
   "cell_type": "code",
   "execution_count": 3,
   "id": "17a627a7",
   "metadata": {},
   "outputs": [
    {
     "data": {
      "text/html": [
       "<div>\n",
       "<style scoped>\n",
       "    .dataframe tbody tr th:only-of-type {\n",
       "        vertical-align: middle;\n",
       "    }\n",
       "\n",
       "    .dataframe tbody tr th {\n",
       "        vertical-align: top;\n",
       "    }\n",
       "\n",
       "    .dataframe thead th {\n",
       "        text-align: right;\n",
       "    }\n",
       "</style>\n",
       "<table border=\"1\" class=\"dataframe\">\n",
       "  <thead>\n",
       "    <tr style=\"text-align: right;\">\n",
       "      <th></th>\n",
       "      <th>ID</th>\n",
       "      <th>var3</th>\n",
       "      <th>var15</th>\n",
       "      <th>imp_ent_var16_ult1</th>\n",
       "      <th>imp_op_var39_comer_ult1</th>\n",
       "      <th>imp_op_var39_comer_ult3</th>\n",
       "      <th>imp_op_var40_comer_ult1</th>\n",
       "      <th>imp_op_var40_comer_ult3</th>\n",
       "      <th>imp_op_var40_efect_ult1</th>\n",
       "      <th>imp_op_var40_efect_ult3</th>\n",
       "      <th>...</th>\n",
       "      <th>saldo_medio_var33_hace2</th>\n",
       "      <th>saldo_medio_var33_hace3</th>\n",
       "      <th>saldo_medio_var33_ult1</th>\n",
       "      <th>saldo_medio_var33_ult3</th>\n",
       "      <th>saldo_medio_var44_hace2</th>\n",
       "      <th>saldo_medio_var44_hace3</th>\n",
       "      <th>saldo_medio_var44_ult1</th>\n",
       "      <th>saldo_medio_var44_ult3</th>\n",
       "      <th>var38</th>\n",
       "      <th>TARGET</th>\n",
       "    </tr>\n",
       "  </thead>\n",
       "  <tbody>\n",
       "    <tr>\n",
       "      <th>0</th>\n",
       "      <td>1</td>\n",
       "      <td>2</td>\n",
       "      <td>23</td>\n",
       "      <td>0.0</td>\n",
       "      <td>0.0</td>\n",
       "      <td>0.0</td>\n",
       "      <td>0.0</td>\n",
       "      <td>0.0</td>\n",
       "      <td>0.0</td>\n",
       "      <td>0.0</td>\n",
       "      <td>...</td>\n",
       "      <td>0.0</td>\n",
       "      <td>0.0</td>\n",
       "      <td>0.0</td>\n",
       "      <td>0.0</td>\n",
       "      <td>0.0</td>\n",
       "      <td>0.0</td>\n",
       "      <td>0.0</td>\n",
       "      <td>0.0</td>\n",
       "      <td>39205.170000</td>\n",
       "      <td>0</td>\n",
       "    </tr>\n",
       "    <tr>\n",
       "      <th>1</th>\n",
       "      <td>3</td>\n",
       "      <td>2</td>\n",
       "      <td>34</td>\n",
       "      <td>0.0</td>\n",
       "      <td>0.0</td>\n",
       "      <td>0.0</td>\n",
       "      <td>0.0</td>\n",
       "      <td>0.0</td>\n",
       "      <td>0.0</td>\n",
       "      <td>0.0</td>\n",
       "      <td>...</td>\n",
       "      <td>0.0</td>\n",
       "      <td>0.0</td>\n",
       "      <td>0.0</td>\n",
       "      <td>0.0</td>\n",
       "      <td>0.0</td>\n",
       "      <td>0.0</td>\n",
       "      <td>0.0</td>\n",
       "      <td>0.0</td>\n",
       "      <td>49278.030000</td>\n",
       "      <td>0</td>\n",
       "    </tr>\n",
       "    <tr>\n",
       "      <th>2</th>\n",
       "      <td>4</td>\n",
       "      <td>2</td>\n",
       "      <td>23</td>\n",
       "      <td>0.0</td>\n",
       "      <td>0.0</td>\n",
       "      <td>0.0</td>\n",
       "      <td>0.0</td>\n",
       "      <td>0.0</td>\n",
       "      <td>0.0</td>\n",
       "      <td>0.0</td>\n",
       "      <td>...</td>\n",
       "      <td>0.0</td>\n",
       "      <td>0.0</td>\n",
       "      <td>0.0</td>\n",
       "      <td>0.0</td>\n",
       "      <td>0.0</td>\n",
       "      <td>0.0</td>\n",
       "      <td>0.0</td>\n",
       "      <td>0.0</td>\n",
       "      <td>67333.770000</td>\n",
       "      <td>0</td>\n",
       "    </tr>\n",
       "    <tr>\n",
       "      <th>3</th>\n",
       "      <td>8</td>\n",
       "      <td>2</td>\n",
       "      <td>37</td>\n",
       "      <td>0.0</td>\n",
       "      <td>195.0</td>\n",
       "      <td>195.0</td>\n",
       "      <td>0.0</td>\n",
       "      <td>0.0</td>\n",
       "      <td>0.0</td>\n",
       "      <td>0.0</td>\n",
       "      <td>...</td>\n",
       "      <td>0.0</td>\n",
       "      <td>0.0</td>\n",
       "      <td>0.0</td>\n",
       "      <td>0.0</td>\n",
       "      <td>0.0</td>\n",
       "      <td>0.0</td>\n",
       "      <td>0.0</td>\n",
       "      <td>0.0</td>\n",
       "      <td>64007.970000</td>\n",
       "      <td>0</td>\n",
       "    </tr>\n",
       "    <tr>\n",
       "      <th>4</th>\n",
       "      <td>10</td>\n",
       "      <td>2</td>\n",
       "      <td>39</td>\n",
       "      <td>0.0</td>\n",
       "      <td>0.0</td>\n",
       "      <td>0.0</td>\n",
       "      <td>0.0</td>\n",
       "      <td>0.0</td>\n",
       "      <td>0.0</td>\n",
       "      <td>0.0</td>\n",
       "      <td>...</td>\n",
       "      <td>0.0</td>\n",
       "      <td>0.0</td>\n",
       "      <td>0.0</td>\n",
       "      <td>0.0</td>\n",
       "      <td>0.0</td>\n",
       "      <td>0.0</td>\n",
       "      <td>0.0</td>\n",
       "      <td>0.0</td>\n",
       "      <td>117310.979016</td>\n",
       "      <td>0</td>\n",
       "    </tr>\n",
       "    <tr>\n",
       "      <th>...</th>\n",
       "      <td>...</td>\n",
       "      <td>...</td>\n",
       "      <td>...</td>\n",
       "      <td>...</td>\n",
       "      <td>...</td>\n",
       "      <td>...</td>\n",
       "      <td>...</td>\n",
       "      <td>...</td>\n",
       "      <td>...</td>\n",
       "      <td>...</td>\n",
       "      <td>...</td>\n",
       "      <td>...</td>\n",
       "      <td>...</td>\n",
       "      <td>...</td>\n",
       "      <td>...</td>\n",
       "      <td>...</td>\n",
       "      <td>...</td>\n",
       "      <td>...</td>\n",
       "      <td>...</td>\n",
       "      <td>...</td>\n",
       "      <td>...</td>\n",
       "    </tr>\n",
       "    <tr>\n",
       "      <th>76015</th>\n",
       "      <td>151829</td>\n",
       "      <td>2</td>\n",
       "      <td>48</td>\n",
       "      <td>0.0</td>\n",
       "      <td>0.0</td>\n",
       "      <td>0.0</td>\n",
       "      <td>0.0</td>\n",
       "      <td>0.0</td>\n",
       "      <td>0.0</td>\n",
       "      <td>0.0</td>\n",
       "      <td>...</td>\n",
       "      <td>0.0</td>\n",
       "      <td>0.0</td>\n",
       "      <td>0.0</td>\n",
       "      <td>0.0</td>\n",
       "      <td>0.0</td>\n",
       "      <td>0.0</td>\n",
       "      <td>0.0</td>\n",
       "      <td>0.0</td>\n",
       "      <td>60926.490000</td>\n",
       "      <td>0</td>\n",
       "    </tr>\n",
       "    <tr>\n",
       "      <th>76016</th>\n",
       "      <td>151830</td>\n",
       "      <td>2</td>\n",
       "      <td>39</td>\n",
       "      <td>0.0</td>\n",
       "      <td>0.0</td>\n",
       "      <td>0.0</td>\n",
       "      <td>0.0</td>\n",
       "      <td>0.0</td>\n",
       "      <td>0.0</td>\n",
       "      <td>0.0</td>\n",
       "      <td>...</td>\n",
       "      <td>0.0</td>\n",
       "      <td>0.0</td>\n",
       "      <td>0.0</td>\n",
       "      <td>0.0</td>\n",
       "      <td>0.0</td>\n",
       "      <td>0.0</td>\n",
       "      <td>0.0</td>\n",
       "      <td>0.0</td>\n",
       "      <td>118634.520000</td>\n",
       "      <td>0</td>\n",
       "    </tr>\n",
       "    <tr>\n",
       "      <th>76017</th>\n",
       "      <td>151835</td>\n",
       "      <td>2</td>\n",
       "      <td>23</td>\n",
       "      <td>0.0</td>\n",
       "      <td>0.0</td>\n",
       "      <td>0.0</td>\n",
       "      <td>0.0</td>\n",
       "      <td>0.0</td>\n",
       "      <td>0.0</td>\n",
       "      <td>0.0</td>\n",
       "      <td>...</td>\n",
       "      <td>0.0</td>\n",
       "      <td>0.0</td>\n",
       "      <td>0.0</td>\n",
       "      <td>0.0</td>\n",
       "      <td>0.0</td>\n",
       "      <td>0.0</td>\n",
       "      <td>0.0</td>\n",
       "      <td>0.0</td>\n",
       "      <td>74028.150000</td>\n",
       "      <td>0</td>\n",
       "    </tr>\n",
       "    <tr>\n",
       "      <th>76018</th>\n",
       "      <td>151836</td>\n",
       "      <td>2</td>\n",
       "      <td>25</td>\n",
       "      <td>0.0</td>\n",
       "      <td>0.0</td>\n",
       "      <td>0.0</td>\n",
       "      <td>0.0</td>\n",
       "      <td>0.0</td>\n",
       "      <td>0.0</td>\n",
       "      <td>0.0</td>\n",
       "      <td>...</td>\n",
       "      <td>0.0</td>\n",
       "      <td>0.0</td>\n",
       "      <td>0.0</td>\n",
       "      <td>0.0</td>\n",
       "      <td>0.0</td>\n",
       "      <td>0.0</td>\n",
       "      <td>0.0</td>\n",
       "      <td>0.0</td>\n",
       "      <td>84278.160000</td>\n",
       "      <td>0</td>\n",
       "    </tr>\n",
       "    <tr>\n",
       "      <th>76019</th>\n",
       "      <td>151838</td>\n",
       "      <td>2</td>\n",
       "      <td>46</td>\n",
       "      <td>0.0</td>\n",
       "      <td>0.0</td>\n",
       "      <td>0.0</td>\n",
       "      <td>0.0</td>\n",
       "      <td>0.0</td>\n",
       "      <td>0.0</td>\n",
       "      <td>0.0</td>\n",
       "      <td>...</td>\n",
       "      <td>0.0</td>\n",
       "      <td>0.0</td>\n",
       "      <td>0.0</td>\n",
       "      <td>0.0</td>\n",
       "      <td>0.0</td>\n",
       "      <td>0.0</td>\n",
       "      <td>0.0</td>\n",
       "      <td>0.0</td>\n",
       "      <td>117310.979016</td>\n",
       "      <td>0</td>\n",
       "    </tr>\n",
       "  </tbody>\n",
       "</table>\n",
       "<p>76020 rows × 371 columns</p>\n",
       "</div>"
      ],
      "text/plain": [
       "           ID  var3  var15  imp_ent_var16_ult1  imp_op_var39_comer_ult1  \\\n",
       "0           1     2     23                 0.0                      0.0   \n",
       "1           3     2     34                 0.0                      0.0   \n",
       "2           4     2     23                 0.0                      0.0   \n",
       "3           8     2     37                 0.0                    195.0   \n",
       "4          10     2     39                 0.0                      0.0   \n",
       "...       ...   ...    ...                 ...                      ...   \n",
       "76015  151829     2     48                 0.0                      0.0   \n",
       "76016  151830     2     39                 0.0                      0.0   \n",
       "76017  151835     2     23                 0.0                      0.0   \n",
       "76018  151836     2     25                 0.0                      0.0   \n",
       "76019  151838     2     46                 0.0                      0.0   \n",
       "\n",
       "       imp_op_var39_comer_ult3  imp_op_var40_comer_ult1  \\\n",
       "0                          0.0                      0.0   \n",
       "1                          0.0                      0.0   \n",
       "2                          0.0                      0.0   \n",
       "3                        195.0                      0.0   \n",
       "4                          0.0                      0.0   \n",
       "...                        ...                      ...   \n",
       "76015                      0.0                      0.0   \n",
       "76016                      0.0                      0.0   \n",
       "76017                      0.0                      0.0   \n",
       "76018                      0.0                      0.0   \n",
       "76019                      0.0                      0.0   \n",
       "\n",
       "       imp_op_var40_comer_ult3  imp_op_var40_efect_ult1  \\\n",
       "0                          0.0                      0.0   \n",
       "1                          0.0                      0.0   \n",
       "2                          0.0                      0.0   \n",
       "3                          0.0                      0.0   \n",
       "4                          0.0                      0.0   \n",
       "...                        ...                      ...   \n",
       "76015                      0.0                      0.0   \n",
       "76016                      0.0                      0.0   \n",
       "76017                      0.0                      0.0   \n",
       "76018                      0.0                      0.0   \n",
       "76019                      0.0                      0.0   \n",
       "\n",
       "       imp_op_var40_efect_ult3  ...  saldo_medio_var33_hace2  \\\n",
       "0                          0.0  ...                      0.0   \n",
       "1                          0.0  ...                      0.0   \n",
       "2                          0.0  ...                      0.0   \n",
       "3                          0.0  ...                      0.0   \n",
       "4                          0.0  ...                      0.0   \n",
       "...                        ...  ...                      ...   \n",
       "76015                      0.0  ...                      0.0   \n",
       "76016                      0.0  ...                      0.0   \n",
       "76017                      0.0  ...                      0.0   \n",
       "76018                      0.0  ...                      0.0   \n",
       "76019                      0.0  ...                      0.0   \n",
       "\n",
       "       saldo_medio_var33_hace3  saldo_medio_var33_ult1  \\\n",
       "0                          0.0                     0.0   \n",
       "1                          0.0                     0.0   \n",
       "2                          0.0                     0.0   \n",
       "3                          0.0                     0.0   \n",
       "4                          0.0                     0.0   \n",
       "...                        ...                     ...   \n",
       "76015                      0.0                     0.0   \n",
       "76016                      0.0                     0.0   \n",
       "76017                      0.0                     0.0   \n",
       "76018                      0.0                     0.0   \n",
       "76019                      0.0                     0.0   \n",
       "\n",
       "       saldo_medio_var33_ult3  saldo_medio_var44_hace2  \\\n",
       "0                         0.0                      0.0   \n",
       "1                         0.0                      0.0   \n",
       "2                         0.0                      0.0   \n",
       "3                         0.0                      0.0   \n",
       "4                         0.0                      0.0   \n",
       "...                       ...                      ...   \n",
       "76015                     0.0                      0.0   \n",
       "76016                     0.0                      0.0   \n",
       "76017                     0.0                      0.0   \n",
       "76018                     0.0                      0.0   \n",
       "76019                     0.0                      0.0   \n",
       "\n",
       "       saldo_medio_var44_hace3  saldo_medio_var44_ult1  \\\n",
       "0                          0.0                     0.0   \n",
       "1                          0.0                     0.0   \n",
       "2                          0.0                     0.0   \n",
       "3                          0.0                     0.0   \n",
       "4                          0.0                     0.0   \n",
       "...                        ...                     ...   \n",
       "76015                      0.0                     0.0   \n",
       "76016                      0.0                     0.0   \n",
       "76017                      0.0                     0.0   \n",
       "76018                      0.0                     0.0   \n",
       "76019                      0.0                     0.0   \n",
       "\n",
       "       saldo_medio_var44_ult3          var38  TARGET  \n",
       "0                         0.0   39205.170000       0  \n",
       "1                         0.0   49278.030000       0  \n",
       "2                         0.0   67333.770000       0  \n",
       "3                         0.0   64007.970000       0  \n",
       "4                         0.0  117310.979016       0  \n",
       "...                       ...            ...     ...  \n",
       "76015                     0.0   60926.490000       0  \n",
       "76016                     0.0  118634.520000       0  \n",
       "76017                     0.0   74028.150000       0  \n",
       "76018                     0.0   84278.160000       0  \n",
       "76019                     0.0  117310.979016       0  \n",
       "\n",
       "[76020 rows x 371 columns]"
      ]
     },
     "execution_count": 3,
     "metadata": {},
     "output_type": "execute_result"
    }
   ],
   "source": [
    "df_train"
   ]
  },
  {
   "cell_type": "code",
   "execution_count": 4,
   "id": "11a653d6",
   "metadata": {},
   "outputs": [
    {
     "data": {
      "text/plain": [
       "(76020, 371)"
      ]
     },
     "execution_count": 4,
     "metadata": {},
     "output_type": "execute_result"
    }
   ],
   "source": [
    "df_train.shape"
   ]
  },
  {
   "cell_type": "code",
   "execution_count": 5,
   "id": "05419168",
   "metadata": {
    "scrolled": true
   },
   "outputs": [
    {
     "data": {
      "text/plain": [
       "Index(['ID', 'var3', 'var15', 'imp_ent_var16_ult1', 'imp_op_var39_comer_ult1',\n",
       "       'imp_op_var39_comer_ult3', 'imp_op_var40_comer_ult1',\n",
       "       'imp_op_var40_comer_ult3', 'imp_op_var40_efect_ult1',\n",
       "       'imp_op_var40_efect_ult3',\n",
       "       ...\n",
       "       'saldo_medio_var33_hace2', 'saldo_medio_var33_hace3',\n",
       "       'saldo_medio_var33_ult1', 'saldo_medio_var33_ult3',\n",
       "       'saldo_medio_var44_hace2', 'saldo_medio_var44_hace3',\n",
       "       'saldo_medio_var44_ult1', 'saldo_medio_var44_ult3', 'var38', 'TARGET'],\n",
       "      dtype='object', length=371)"
      ]
     },
     "execution_count": 5,
     "metadata": {},
     "output_type": "execute_result"
    }
   ],
   "source": [
    "df_train.columns"
   ]
  },
  {
   "cell_type": "code",
   "execution_count": 6,
   "id": "6871319f",
   "metadata": {},
   "outputs": [],
   "source": [
    "# Remove a coluna ID\n",
    "df_train = df_train.drop(['ID'], axis = 1)"
   ]
  },
  {
   "cell_type": "code",
   "execution_count": 7,
   "id": "b149fe45",
   "metadata": {},
   "outputs": [],
   "source": [
    "# Divide input e output\n",
    "y_train = df_train.TARGET\n",
    "X_train = df_train.drop([\"TARGET\"], axis = 1)"
   ]
  },
  {
   "cell_type": "code",
   "execution_count": 8,
   "id": "2e732e4f",
   "metadata": {
    "scrolled": false
   },
   "outputs": [
    {
     "data": {
      "text/plain": [
       "(76020, 369)"
      ]
     },
     "execution_count": 8,
     "metadata": {},
     "output_type": "execute_result"
    }
   ],
   "source": [
    "X_train.shape"
   ]
  },
  {
   "cell_type": "code",
   "execution_count": 9,
   "id": "6e2ce77b",
   "metadata": {},
   "outputs": [
    {
     "data": {
      "text/plain": [
       "(76020,)"
      ]
     },
     "execution_count": 9,
     "metadata": {},
     "output_type": "execute_result"
    }
   ],
   "source": [
    "y_train.shape"
   ]
  },
  {
   "cell_type": "markdown",
   "id": "63dcda6a",
   "metadata": {},
   "source": [
    "# Feature Selection - Escolhendo Variáveis\n",
    "\n",
    "O dataset possui 370 features, o que pode acarretar em longo tempo de treinamento, overfitting e variáveis redundantes. Serão aplicadas diversas técnicas de _feature selection_ a fim de reduzir a quantidade de variáveis preditoras e evitar os problemas citados anteriormente."
   ]
  },
  {
   "cell_type": "markdown",
   "id": "30dee960",
   "metadata": {},
   "source": [
    "## Removendo variáveis constantes e quase constantes\n",
    "\n",
    "Variáveis cujas observações diferem muito pouco em todos os registros fornecem pouca ou nenhuma informação útil para a previsão do modelo. Elas serão removidas."
   ]
  },
  {
   "cell_type": "code",
   "execution_count": 10,
   "id": "8cab9c95",
   "metadata": {},
   "outputs": [
    {
     "data": {
      "text/html": [
       "<style>#sk-container-id-1 {color: black;background-color: white;}#sk-container-id-1 pre{padding: 0;}#sk-container-id-1 div.sk-toggleable {background-color: white;}#sk-container-id-1 label.sk-toggleable__label {cursor: pointer;display: block;width: 100%;margin-bottom: 0;padding: 0.3em;box-sizing: border-box;text-align: center;}#sk-container-id-1 label.sk-toggleable__label-arrow:before {content: \"▸\";float: left;margin-right: 0.25em;color: #696969;}#sk-container-id-1 label.sk-toggleable__label-arrow:hover:before {color: black;}#sk-container-id-1 div.sk-estimator:hover label.sk-toggleable__label-arrow:before {color: black;}#sk-container-id-1 div.sk-toggleable__content {max-height: 0;max-width: 0;overflow: hidden;text-align: left;background-color: #f0f8ff;}#sk-container-id-1 div.sk-toggleable__content pre {margin: 0.2em;color: black;border-radius: 0.25em;background-color: #f0f8ff;}#sk-container-id-1 input.sk-toggleable__control:checked~div.sk-toggleable__content {max-height: 200px;max-width: 100%;overflow: auto;}#sk-container-id-1 input.sk-toggleable__control:checked~label.sk-toggleable__label-arrow:before {content: \"▾\";}#sk-container-id-1 div.sk-estimator input.sk-toggleable__control:checked~label.sk-toggleable__label {background-color: #d4ebff;}#sk-container-id-1 div.sk-label input.sk-toggleable__control:checked~label.sk-toggleable__label {background-color: #d4ebff;}#sk-container-id-1 input.sk-hidden--visually {border: 0;clip: rect(1px 1px 1px 1px);clip: rect(1px, 1px, 1px, 1px);height: 1px;margin: -1px;overflow: hidden;padding: 0;position: absolute;width: 1px;}#sk-container-id-1 div.sk-estimator {font-family: monospace;background-color: #f0f8ff;border: 1px dotted black;border-radius: 0.25em;box-sizing: border-box;margin-bottom: 0.5em;}#sk-container-id-1 div.sk-estimator:hover {background-color: #d4ebff;}#sk-container-id-1 div.sk-parallel-item::after {content: \"\";width: 100%;border-bottom: 1px solid gray;flex-grow: 1;}#sk-container-id-1 div.sk-label:hover label.sk-toggleable__label {background-color: #d4ebff;}#sk-container-id-1 div.sk-serial::before {content: \"\";position: absolute;border-left: 1px solid gray;box-sizing: border-box;top: 0;bottom: 0;left: 50%;z-index: 0;}#sk-container-id-1 div.sk-serial {display: flex;flex-direction: column;align-items: center;background-color: white;padding-right: 0.2em;padding-left: 0.2em;position: relative;}#sk-container-id-1 div.sk-item {position: relative;z-index: 1;}#sk-container-id-1 div.sk-parallel {display: flex;align-items: stretch;justify-content: center;background-color: white;position: relative;}#sk-container-id-1 div.sk-item::before, #sk-container-id-1 div.sk-parallel-item::before {content: \"\";position: absolute;border-left: 1px solid gray;box-sizing: border-box;top: 0;bottom: 0;left: 50%;z-index: -1;}#sk-container-id-1 div.sk-parallel-item {display: flex;flex-direction: column;z-index: 1;position: relative;background-color: white;}#sk-container-id-1 div.sk-parallel-item:first-child::after {align-self: flex-end;width: 50%;}#sk-container-id-1 div.sk-parallel-item:last-child::after {align-self: flex-start;width: 50%;}#sk-container-id-1 div.sk-parallel-item:only-child::after {width: 0;}#sk-container-id-1 div.sk-dashed-wrapped {border: 1px dashed gray;margin: 0 0.4em 0.5em 0.4em;box-sizing: border-box;padding-bottom: 0.4em;background-color: white;}#sk-container-id-1 div.sk-label label {font-family: monospace;font-weight: bold;display: inline-block;line-height: 1.2em;}#sk-container-id-1 div.sk-label-container {text-align: center;}#sk-container-id-1 div.sk-container {/* jupyter's `normalize.less` sets `[hidden] { display: none; }` but bootstrap.min.css set `[hidden] { display: none !important; }` so we also need the `!important` here to be able to override the default hidden behavior on the sphinx rendered scikit-learn.org. See: https://github.com/scikit-learn/scikit-learn/issues/21755 */display: inline-block !important;position: relative;}#sk-container-id-1 div.sk-text-repr-fallback {display: none;}</style><div id=\"sk-container-id-1\" class=\"sk-top-container\"><div class=\"sk-text-repr-fallback\"><pre>VarianceThreshold(threshold=0.01)</pre><b>In a Jupyter environment, please rerun this cell to show the HTML representation or trust the notebook. <br />On GitHub, the HTML representation is unable to render, please try loading this page with nbviewer.org.</b></div><div class=\"sk-container\" hidden><div class=\"sk-item\"><div class=\"sk-estimator sk-toggleable\"><input class=\"sk-toggleable__control sk-hidden--visually\" id=\"sk-estimator-id-1\" type=\"checkbox\" checked><label for=\"sk-estimator-id-1\" class=\"sk-toggleable__label sk-toggleable__label-arrow\">VarianceThreshold</label><div class=\"sk-toggleable__content\"><pre>VarianceThreshold(threshold=0.01)</pre></div></div></div></div></div>"
      ],
      "text/plain": [
       "VarianceThreshold(threshold=0.01)"
      ]
     },
     "execution_count": 10,
     "metadata": {},
     "output_type": "execute_result"
    }
   ],
   "source": [
    "sel = VarianceThreshold(threshold=0.01) # Remove variáveis cujas observações são iguais em aproximadamente 99% dos registros\n",
    "sel.fit(X_train)"
   ]
  },
  {
   "cell_type": "code",
   "execution_count": 11,
   "id": "4dd4676c",
   "metadata": {},
   "outputs": [
    {
     "data": {
      "text/plain": [
       "272"
      ]
     },
     "execution_count": 11,
     "metadata": {},
     "output_type": "execute_result"
    }
   ],
   "source": [
    "# get_support é um vetor booleano que indica quais features foram mantidas.\n",
    "# Ao somar get_support encontra-se o número de features\n",
    "sum(sel.get_support())"
   ]
  },
  {
   "cell_type": "code",
   "execution_count": 12,
   "id": "4e5d72cf",
   "metadata": {
    "scrolled": true
   },
   "outputs": [
    {
     "data": {
      "text/plain": [
       "['ind_var1',\n",
       " 'ind_var2_0',\n",
       " 'ind_var2',\n",
       " 'ind_var6_0',\n",
       " 'ind_var6',\n",
       " 'ind_var13_largo',\n",
       " 'ind_var13_medio_0',\n",
       " 'ind_var13_medio',\n",
       " 'ind_var14',\n",
       " 'ind_var17_0',\n",
       " 'ind_var17',\n",
       " 'ind_var18_0',\n",
       " 'ind_var18',\n",
       " 'ind_var19',\n",
       " 'ind_var20_0',\n",
       " 'ind_var20',\n",
       " 'ind_var27_0',\n",
       " 'ind_var28_0',\n",
       " 'ind_var28',\n",
       " 'ind_var27',\n",
       " 'ind_var29_0',\n",
       " 'ind_var29',\n",
       " 'ind_var30_0',\n",
       " 'ind_var31_0',\n",
       " 'ind_var31',\n",
       " 'ind_var32_cte',\n",
       " 'ind_var32_0',\n",
       " 'ind_var32',\n",
       " 'ind_var33_0',\n",
       " 'ind_var33',\n",
       " 'ind_var34_0',\n",
       " 'ind_var34',\n",
       " 'ind_var40',\n",
       " 'ind_var41',\n",
       " 'ind_var39',\n",
       " 'ind_var44_0',\n",
       " 'ind_var44',\n",
       " 'ind_var46_0',\n",
       " 'ind_var46',\n",
       " 'num_var6_0',\n",
       " 'num_var6',\n",
       " 'num_var13_medio_0',\n",
       " 'num_var13_medio',\n",
       " 'num_var18_0',\n",
       " 'num_var18',\n",
       " 'num_var27_0',\n",
       " 'num_var28_0',\n",
       " 'num_var28',\n",
       " 'num_var27',\n",
       " 'num_var29_0',\n",
       " 'num_var29',\n",
       " 'num_var33',\n",
       " 'num_var34_0',\n",
       " 'num_var34',\n",
       " 'num_var41',\n",
       " 'num_var46_0',\n",
       " 'num_var46',\n",
       " 'saldo_var28',\n",
       " 'saldo_var27',\n",
       " 'saldo_var41',\n",
       " 'saldo_var46',\n",
       " 'imp_amort_var18_hace3',\n",
       " 'imp_amort_var34_hace3',\n",
       " 'imp_reemb_var13_hace3',\n",
       " 'imp_reemb_var33_hace3',\n",
       " 'imp_trasp_var17_out_hace3',\n",
       " 'imp_trasp_var33_out_hace3',\n",
       " 'ind_var7_emit_ult1',\n",
       " 'ind_var7_recib_ult1',\n",
       " 'num_var2_0_ult1',\n",
       " 'num_var2_ult1',\n",
       " 'num_aport_var33_hace3',\n",
       " 'num_aport_var33_ult1',\n",
       " 'num_var7_emit_ult1',\n",
       " 'num_compra_var44_hace3',\n",
       " 'num_meses_var13_medio_ult3',\n",
       " 'num_meses_var17_ult3',\n",
       " 'num_meses_var29_ult3',\n",
       " 'num_meses_var33_ult3',\n",
       " 'num_meses_var44_ult3',\n",
       " 'num_reemb_var13_hace3',\n",
       " 'num_reemb_var13_ult1',\n",
       " 'num_reemb_var17_hace3',\n",
       " 'num_reemb_var17_ult1',\n",
       " 'num_reemb_var33_hace3',\n",
       " 'num_reemb_var33_ult1',\n",
       " 'num_trasp_var17_in_hace3',\n",
       " 'num_trasp_var17_in_ult1',\n",
       " 'num_trasp_var17_out_hace3',\n",
       " 'num_trasp_var17_out_ult1',\n",
       " 'num_trasp_var33_in_hace3',\n",
       " 'num_trasp_var33_in_ult1',\n",
       " 'num_trasp_var33_out_hace3',\n",
       " 'num_trasp_var33_out_ult1',\n",
       " 'num_venta_var44_hace3',\n",
       " 'saldo_var2_ult1',\n",
       " 'saldo_medio_var13_medio_hace3']"
      ]
     },
     "execution_count": 12,
     "metadata": {},
     "output_type": "execute_result"
    }
   ],
   "source": [
    "# Variáveis removidas\n",
    "[x for x in X_train.columns if x not in X_train.columns[sel.get_support()]]"
   ]
  },
  {
   "cell_type": "code",
   "execution_count": 13,
   "id": "49b99ae9",
   "metadata": {
    "scrolled": false
   },
   "outputs": [
    {
     "data": {
      "text/plain": [
       "0    0.996238\n",
       "1    0.003762\n",
       "Name: ind_var1, dtype: float64"
      ]
     },
     "execution_count": 13,
     "metadata": {},
     "output_type": "execute_result"
    }
   ],
   "source": [
    "# Mostra a porcentagem de observações com valores diferentes\n",
    "X_train['ind_var1'].value_counts() / float(len(X_train))"
   ]
  },
  {
   "cell_type": "code",
   "execution_count": 14,
   "id": "51ab1e70",
   "metadata": {},
   "outputs": [
    {
     "data": {
      "text/plain": [
       "Index(['var3', 'var15', 'imp_ent_var16_ult1', 'imp_op_var39_comer_ult1',\n",
       "       'imp_op_var39_comer_ult3', 'imp_op_var40_comer_ult1',\n",
       "       'imp_op_var40_comer_ult3', 'imp_op_var40_efect_ult1',\n",
       "       'imp_op_var40_efect_ult3', 'imp_op_var40_ult1',\n",
       "       ...\n",
       "       'saldo_medio_var29_ult3', 'saldo_medio_var33_hace2',\n",
       "       'saldo_medio_var33_hace3', 'saldo_medio_var33_ult1',\n",
       "       'saldo_medio_var33_ult3', 'saldo_medio_var44_hace2',\n",
       "       'saldo_medio_var44_hace3', 'saldo_medio_var44_ult1',\n",
       "       'saldo_medio_var44_ult3', 'var38'],\n",
       "      dtype='object', length=272)"
      ]
     },
     "execution_count": 14,
     "metadata": {},
     "output_type": "execute_result"
    }
   ],
   "source": [
    "# Máscara booleana das features selecionadas (lista de True e False)\n",
    "mask = sel.get_support()\n",
    "\n",
    "# Obtém os nomes das variáveis selecionadas\n",
    "selected_features = X_train.columns[mask]\n",
    "\n",
    "selected_features"
   ]
  },
  {
   "cell_type": "code",
   "execution_count": 15,
   "id": "3295ce8d",
   "metadata": {},
   "outputs": [],
   "source": [
    "# Então, aplicando o transform para remover essas variáveis de treino e convertendo de volta para DataFrame\n",
    "X_train_sel1 = pd.DataFrame(sel.transform(X_train), columns = selected_features)"
   ]
  },
  {
   "cell_type": "code",
   "execution_count": 16,
   "id": "2db79ca8",
   "metadata": {
    "scrolled": false
   },
   "outputs": [
    {
     "data": {
      "text/plain": [
       "(76020, 272)"
      ]
     },
     "execution_count": 16,
     "metadata": {},
     "output_type": "execute_result"
    }
   ],
   "source": [
    "X_train_sel1.shape"
   ]
  },
  {
   "cell_type": "markdown",
   "id": "8e845e35",
   "metadata": {},
   "source": [
    "## Removendo variáveis altamente correlacionadas\n",
    "\n",
    "Variáveis com alta correlação entre si podem indicar que uma delas é redundante. A informação fornecida por ela já é entregue por outra variável e portanto não é necessário manter ambas no dataset.\n",
    "\n",
    "A correlação entre as variáveis será investigada e será mantida apenas uma das variáveis entre os pares que tiverem alta correlação entre si."
   ]
  },
  {
   "cell_type": "code",
   "execution_count": 17,
   "id": "292eb3fa",
   "metadata": {
    "scrolled": true
   },
   "outputs": [
    {
     "data": {
      "text/html": [
       "<div>\n",
       "<style scoped>\n",
       "    .dataframe tbody tr th:only-of-type {\n",
       "        vertical-align: middle;\n",
       "    }\n",
       "\n",
       "    .dataframe tbody tr th {\n",
       "        vertical-align: top;\n",
       "    }\n",
       "\n",
       "    .dataframe thead th {\n",
       "        text-align: right;\n",
       "    }\n",
       "</style>\n",
       "<table border=\"1\" class=\"dataframe\">\n",
       "  <thead>\n",
       "    <tr style=\"text-align: right;\">\n",
       "      <th></th>\n",
       "      <th>var3</th>\n",
       "      <th>var15</th>\n",
       "      <th>imp_ent_var16_ult1</th>\n",
       "      <th>imp_op_var39_comer_ult1</th>\n",
       "      <th>imp_op_var39_comer_ult3</th>\n",
       "      <th>imp_op_var40_comer_ult1</th>\n",
       "      <th>imp_op_var40_comer_ult3</th>\n",
       "      <th>imp_op_var40_efect_ult1</th>\n",
       "      <th>imp_op_var40_efect_ult3</th>\n",
       "      <th>imp_op_var40_ult1</th>\n",
       "      <th>...</th>\n",
       "      <th>saldo_medio_var29_ult3</th>\n",
       "      <th>saldo_medio_var33_hace2</th>\n",
       "      <th>saldo_medio_var33_hace3</th>\n",
       "      <th>saldo_medio_var33_ult1</th>\n",
       "      <th>saldo_medio_var33_ult3</th>\n",
       "      <th>saldo_medio_var44_hace2</th>\n",
       "      <th>saldo_medio_var44_hace3</th>\n",
       "      <th>saldo_medio_var44_ult1</th>\n",
       "      <th>saldo_medio_var44_ult3</th>\n",
       "      <th>var38</th>\n",
       "    </tr>\n",
       "  </thead>\n",
       "  <tbody>\n",
       "    <tr>\n",
       "      <th>var3</th>\n",
       "      <td>NaN</td>\n",
       "      <td>-0.004452</td>\n",
       "      <td>0.001868</td>\n",
       "      <td>0.005989</td>\n",
       "      <td>0.006817</td>\n",
       "      <td>0.001518</td>\n",
       "      <td>0.001690</td>\n",
       "      <td>0.000530</td>\n",
       "      <td>0.000611</td>\n",
       "      <td>0.001311</td>\n",
       "      <td>...</td>\n",
       "      <td>0.000229</td>\n",
       "      <td>0.000716</td>\n",
       "      <td>0.000491</td>\n",
       "      <td>0.000638</td>\n",
       "      <td>0.000669</td>\n",
       "      <td>0.000617</td>\n",
       "      <td>0.000508</td>\n",
       "      <td>0.000738</td>\n",
       "      <td>0.000778</td>\n",
       "      <td>0.000071</td>\n",
       "    </tr>\n",
       "    <tr>\n",
       "      <th>var15</th>\n",
       "      <td>NaN</td>\n",
       "      <td>NaN</td>\n",
       "      <td>0.043722</td>\n",
       "      <td>0.094762</td>\n",
       "      <td>0.101177</td>\n",
       "      <td>0.042754</td>\n",
       "      <td>0.048512</td>\n",
       "      <td>0.008805</td>\n",
       "      <td>0.009678</td>\n",
       "      <td>0.035884</td>\n",
       "      <td>...</td>\n",
       "      <td>0.011623</td>\n",
       "      <td>0.029358</td>\n",
       "      <td>0.017264</td>\n",
       "      <td>0.028504</td>\n",
       "      <td>0.029176</td>\n",
       "      <td>0.029180</td>\n",
       "      <td>0.018884</td>\n",
       "      <td>0.032833</td>\n",
       "      <td>0.033597</td>\n",
       "      <td>0.006497</td>\n",
       "    </tr>\n",
       "    <tr>\n",
       "      <th>imp_ent_var16_ult1</th>\n",
       "      <td>NaN</td>\n",
       "      <td>NaN</td>\n",
       "      <td>NaN</td>\n",
       "      <td>0.041221</td>\n",
       "      <td>0.034879</td>\n",
       "      <td>0.009896</td>\n",
       "      <td>0.009377</td>\n",
       "      <td>0.000592</td>\n",
       "      <td>0.002510</td>\n",
       "      <td>0.011502</td>\n",
       "      <td>...</td>\n",
       "      <td>0.007428</td>\n",
       "      <td>-0.000864</td>\n",
       "      <td>-0.000632</td>\n",
       "      <td>-0.000548</td>\n",
       "      <td>-0.000540</td>\n",
       "      <td>0.002655</td>\n",
       "      <td>-0.000612</td>\n",
       "      <td>0.005055</td>\n",
       "      <td>0.006590</td>\n",
       "      <td>0.000007</td>\n",
       "    </tr>\n",
       "    <tr>\n",
       "      <th>imp_op_var39_comer_ult1</th>\n",
       "      <td>NaN</td>\n",
       "      <td>NaN</td>\n",
       "      <td>NaN</td>\n",
       "      <td>NaN</td>\n",
       "      <td>0.886476</td>\n",
       "      <td>0.342709</td>\n",
       "      <td>0.295295</td>\n",
       "      <td>0.032280</td>\n",
       "      <td>0.054809</td>\n",
       "      <td>0.249247</td>\n",
       "      <td>...</td>\n",
       "      <td>0.001123</td>\n",
       "      <td>0.016422</td>\n",
       "      <td>0.011719</td>\n",
       "      <td>0.012570</td>\n",
       "      <td>0.013703</td>\n",
       "      <td>0.009445</td>\n",
       "      <td>0.005532</td>\n",
       "      <td>0.011665</td>\n",
       "      <td>0.010802</td>\n",
       "      <td>0.012546</td>\n",
       "    </tr>\n",
       "    <tr>\n",
       "      <th>imp_op_var39_comer_ult3</th>\n",
       "      <td>NaN</td>\n",
       "      <td>NaN</td>\n",
       "      <td>NaN</td>\n",
       "      <td>NaN</td>\n",
       "      <td>NaN</td>\n",
       "      <td>0.316671</td>\n",
       "      <td>0.355670</td>\n",
       "      <td>0.029094</td>\n",
       "      <td>0.055449</td>\n",
       "      <td>0.247707</td>\n",
       "      <td>...</td>\n",
       "      <td>0.000192</td>\n",
       "      <td>0.027489</td>\n",
       "      <td>0.021819</td>\n",
       "      <td>0.018427</td>\n",
       "      <td>0.020530</td>\n",
       "      <td>0.008539</td>\n",
       "      <td>0.006359</td>\n",
       "      <td>0.010660</td>\n",
       "      <td>0.009822</td>\n",
       "      <td>0.013271</td>\n",
       "    </tr>\n",
       "    <tr>\n",
       "      <th>...</th>\n",
       "      <td>...</td>\n",
       "      <td>...</td>\n",
       "      <td>...</td>\n",
       "      <td>...</td>\n",
       "      <td>...</td>\n",
       "      <td>...</td>\n",
       "      <td>...</td>\n",
       "      <td>...</td>\n",
       "      <td>...</td>\n",
       "      <td>...</td>\n",
       "      <td>...</td>\n",
       "      <td>...</td>\n",
       "      <td>...</td>\n",
       "      <td>...</td>\n",
       "      <td>...</td>\n",
       "      <td>...</td>\n",
       "      <td>...</td>\n",
       "      <td>...</td>\n",
       "      <td>...</td>\n",
       "      <td>...</td>\n",
       "      <td>...</td>\n",
       "    </tr>\n",
       "    <tr>\n",
       "      <th>saldo_medio_var44_hace2</th>\n",
       "      <td>NaN</td>\n",
       "      <td>NaN</td>\n",
       "      <td>NaN</td>\n",
       "      <td>NaN</td>\n",
       "      <td>NaN</td>\n",
       "      <td>NaN</td>\n",
       "      <td>NaN</td>\n",
       "      <td>NaN</td>\n",
       "      <td>NaN</td>\n",
       "      <td>NaN</td>\n",
       "      <td>...</td>\n",
       "      <td>NaN</td>\n",
       "      <td>NaN</td>\n",
       "      <td>NaN</td>\n",
       "      <td>NaN</td>\n",
       "      <td>NaN</td>\n",
       "      <td>NaN</td>\n",
       "      <td>0.332172</td>\n",
       "      <td>0.818300</td>\n",
       "      <td>0.710593</td>\n",
       "      <td>0.002889</td>\n",
       "    </tr>\n",
       "    <tr>\n",
       "      <th>saldo_medio_var44_hace3</th>\n",
       "      <td>NaN</td>\n",
       "      <td>NaN</td>\n",
       "      <td>NaN</td>\n",
       "      <td>NaN</td>\n",
       "      <td>NaN</td>\n",
       "      <td>NaN</td>\n",
       "      <td>NaN</td>\n",
       "      <td>NaN</td>\n",
       "      <td>NaN</td>\n",
       "      <td>NaN</td>\n",
       "      <td>...</td>\n",
       "      <td>NaN</td>\n",
       "      <td>NaN</td>\n",
       "      <td>NaN</td>\n",
       "      <td>NaN</td>\n",
       "      <td>NaN</td>\n",
       "      <td>NaN</td>\n",
       "      <td>NaN</td>\n",
       "      <td>0.229158</td>\n",
       "      <td>0.213191</td>\n",
       "      <td>0.003646</td>\n",
       "    </tr>\n",
       "    <tr>\n",
       "      <th>saldo_medio_var44_ult1</th>\n",
       "      <td>NaN</td>\n",
       "      <td>NaN</td>\n",
       "      <td>NaN</td>\n",
       "      <td>NaN</td>\n",
       "      <td>NaN</td>\n",
       "      <td>NaN</td>\n",
       "      <td>NaN</td>\n",
       "      <td>NaN</td>\n",
       "      <td>NaN</td>\n",
       "      <td>NaN</td>\n",
       "      <td>...</td>\n",
       "      <td>NaN</td>\n",
       "      <td>NaN</td>\n",
       "      <td>NaN</td>\n",
       "      <td>NaN</td>\n",
       "      <td>NaN</td>\n",
       "      <td>NaN</td>\n",
       "      <td>NaN</td>\n",
       "      <td>NaN</td>\n",
       "      <td>0.968167</td>\n",
       "      <td>0.003258</td>\n",
       "    </tr>\n",
       "    <tr>\n",
       "      <th>saldo_medio_var44_ult3</th>\n",
       "      <td>NaN</td>\n",
       "      <td>NaN</td>\n",
       "      <td>NaN</td>\n",
       "      <td>NaN</td>\n",
       "      <td>NaN</td>\n",
       "      <td>NaN</td>\n",
       "      <td>NaN</td>\n",
       "      <td>NaN</td>\n",
       "      <td>NaN</td>\n",
       "      <td>NaN</td>\n",
       "      <td>...</td>\n",
       "      <td>NaN</td>\n",
       "      <td>NaN</td>\n",
       "      <td>NaN</td>\n",
       "      <td>NaN</td>\n",
       "      <td>NaN</td>\n",
       "      <td>NaN</td>\n",
       "      <td>NaN</td>\n",
       "      <td>NaN</td>\n",
       "      <td>NaN</td>\n",
       "      <td>0.003037</td>\n",
       "    </tr>\n",
       "    <tr>\n",
       "      <th>var38</th>\n",
       "      <td>NaN</td>\n",
       "      <td>NaN</td>\n",
       "      <td>NaN</td>\n",
       "      <td>NaN</td>\n",
       "      <td>NaN</td>\n",
       "      <td>NaN</td>\n",
       "      <td>NaN</td>\n",
       "      <td>NaN</td>\n",
       "      <td>NaN</td>\n",
       "      <td>NaN</td>\n",
       "      <td>...</td>\n",
       "      <td>NaN</td>\n",
       "      <td>NaN</td>\n",
       "      <td>NaN</td>\n",
       "      <td>NaN</td>\n",
       "      <td>NaN</td>\n",
       "      <td>NaN</td>\n",
       "      <td>NaN</td>\n",
       "      <td>NaN</td>\n",
       "      <td>NaN</td>\n",
       "      <td>NaN</td>\n",
       "    </tr>\n",
       "  </tbody>\n",
       "</table>\n",
       "<p>272 rows × 272 columns</p>\n",
       "</div>"
      ],
      "text/plain": [
       "                         var3     var15  imp_ent_var16_ult1  \\\n",
       "var3                      NaN -0.004452            0.001868   \n",
       "var15                     NaN       NaN            0.043722   \n",
       "imp_ent_var16_ult1        NaN       NaN                 NaN   \n",
       "imp_op_var39_comer_ult1   NaN       NaN                 NaN   \n",
       "imp_op_var39_comer_ult3   NaN       NaN                 NaN   \n",
       "...                       ...       ...                 ...   \n",
       "saldo_medio_var44_hace2   NaN       NaN                 NaN   \n",
       "saldo_medio_var44_hace3   NaN       NaN                 NaN   \n",
       "saldo_medio_var44_ult1    NaN       NaN                 NaN   \n",
       "saldo_medio_var44_ult3    NaN       NaN                 NaN   \n",
       "var38                     NaN       NaN                 NaN   \n",
       "\n",
       "                         imp_op_var39_comer_ult1  imp_op_var39_comer_ult3  \\\n",
       "var3                                    0.005989                 0.006817   \n",
       "var15                                   0.094762                 0.101177   \n",
       "imp_ent_var16_ult1                      0.041221                 0.034879   \n",
       "imp_op_var39_comer_ult1                      NaN                 0.886476   \n",
       "imp_op_var39_comer_ult3                      NaN                      NaN   \n",
       "...                                          ...                      ...   \n",
       "saldo_medio_var44_hace2                      NaN                      NaN   \n",
       "saldo_medio_var44_hace3                      NaN                      NaN   \n",
       "saldo_medio_var44_ult1                       NaN                      NaN   \n",
       "saldo_medio_var44_ult3                       NaN                      NaN   \n",
       "var38                                        NaN                      NaN   \n",
       "\n",
       "                         imp_op_var40_comer_ult1  imp_op_var40_comer_ult3  \\\n",
       "var3                                    0.001518                 0.001690   \n",
       "var15                                   0.042754                 0.048512   \n",
       "imp_ent_var16_ult1                      0.009896                 0.009377   \n",
       "imp_op_var39_comer_ult1                 0.342709                 0.295295   \n",
       "imp_op_var39_comer_ult3                 0.316671                 0.355670   \n",
       "...                                          ...                      ...   \n",
       "saldo_medio_var44_hace2                      NaN                      NaN   \n",
       "saldo_medio_var44_hace3                      NaN                      NaN   \n",
       "saldo_medio_var44_ult1                       NaN                      NaN   \n",
       "saldo_medio_var44_ult3                       NaN                      NaN   \n",
       "var38                                        NaN                      NaN   \n",
       "\n",
       "                         imp_op_var40_efect_ult1  imp_op_var40_efect_ult3  \\\n",
       "var3                                    0.000530                 0.000611   \n",
       "var15                                   0.008805                 0.009678   \n",
       "imp_ent_var16_ult1                      0.000592                 0.002510   \n",
       "imp_op_var39_comer_ult1                 0.032280                 0.054809   \n",
       "imp_op_var39_comer_ult3                 0.029094                 0.055449   \n",
       "...                                          ...                      ...   \n",
       "saldo_medio_var44_hace2                      NaN                      NaN   \n",
       "saldo_medio_var44_hace3                      NaN                      NaN   \n",
       "saldo_medio_var44_ult1                       NaN                      NaN   \n",
       "saldo_medio_var44_ult3                       NaN                      NaN   \n",
       "var38                                        NaN                      NaN   \n",
       "\n",
       "                         imp_op_var40_ult1  ...  saldo_medio_var29_ult3  \\\n",
       "var3                              0.001311  ...                0.000229   \n",
       "var15                             0.035884  ...                0.011623   \n",
       "imp_ent_var16_ult1                0.011502  ...                0.007428   \n",
       "imp_op_var39_comer_ult1           0.249247  ...                0.001123   \n",
       "imp_op_var39_comer_ult3           0.247707  ...                0.000192   \n",
       "...                                    ...  ...                     ...   \n",
       "saldo_medio_var44_hace2                NaN  ...                     NaN   \n",
       "saldo_medio_var44_hace3                NaN  ...                     NaN   \n",
       "saldo_medio_var44_ult1                 NaN  ...                     NaN   \n",
       "saldo_medio_var44_ult3                 NaN  ...                     NaN   \n",
       "var38                                  NaN  ...                     NaN   \n",
       "\n",
       "                         saldo_medio_var33_hace2  saldo_medio_var33_hace3  \\\n",
       "var3                                    0.000716                 0.000491   \n",
       "var15                                   0.029358                 0.017264   \n",
       "imp_ent_var16_ult1                     -0.000864                -0.000632   \n",
       "imp_op_var39_comer_ult1                 0.016422                 0.011719   \n",
       "imp_op_var39_comer_ult3                 0.027489                 0.021819   \n",
       "...                                          ...                      ...   \n",
       "saldo_medio_var44_hace2                      NaN                      NaN   \n",
       "saldo_medio_var44_hace3                      NaN                      NaN   \n",
       "saldo_medio_var44_ult1                       NaN                      NaN   \n",
       "saldo_medio_var44_ult3                       NaN                      NaN   \n",
       "var38                                        NaN                      NaN   \n",
       "\n",
       "                         saldo_medio_var33_ult1  saldo_medio_var33_ult3  \\\n",
       "var3                                   0.000638                0.000669   \n",
       "var15                                  0.028504                0.029176   \n",
       "imp_ent_var16_ult1                    -0.000548               -0.000540   \n",
       "imp_op_var39_comer_ult1                0.012570                0.013703   \n",
       "imp_op_var39_comer_ult3                0.018427                0.020530   \n",
       "...                                         ...                     ...   \n",
       "saldo_medio_var44_hace2                     NaN                     NaN   \n",
       "saldo_medio_var44_hace3                     NaN                     NaN   \n",
       "saldo_medio_var44_ult1                      NaN                     NaN   \n",
       "saldo_medio_var44_ult3                      NaN                     NaN   \n",
       "var38                                       NaN                     NaN   \n",
       "\n",
       "                         saldo_medio_var44_hace2  saldo_medio_var44_hace3  \\\n",
       "var3                                    0.000617                 0.000508   \n",
       "var15                                   0.029180                 0.018884   \n",
       "imp_ent_var16_ult1                      0.002655                -0.000612   \n",
       "imp_op_var39_comer_ult1                 0.009445                 0.005532   \n",
       "imp_op_var39_comer_ult3                 0.008539                 0.006359   \n",
       "...                                          ...                      ...   \n",
       "saldo_medio_var44_hace2                      NaN                 0.332172   \n",
       "saldo_medio_var44_hace3                      NaN                      NaN   \n",
       "saldo_medio_var44_ult1                       NaN                      NaN   \n",
       "saldo_medio_var44_ult3                       NaN                      NaN   \n",
       "var38                                        NaN                      NaN   \n",
       "\n",
       "                         saldo_medio_var44_ult1  saldo_medio_var44_ult3  \\\n",
       "var3                                   0.000738                0.000778   \n",
       "var15                                  0.032833                0.033597   \n",
       "imp_ent_var16_ult1                     0.005055                0.006590   \n",
       "imp_op_var39_comer_ult1                0.011665                0.010802   \n",
       "imp_op_var39_comer_ult3                0.010660                0.009822   \n",
       "...                                         ...                     ...   \n",
       "saldo_medio_var44_hace2                0.818300                0.710593   \n",
       "saldo_medio_var44_hace3                0.229158                0.213191   \n",
       "saldo_medio_var44_ult1                      NaN                0.968167   \n",
       "saldo_medio_var44_ult3                      NaN                     NaN   \n",
       "var38                                       NaN                     NaN   \n",
       "\n",
       "                            var38  \n",
       "var3                     0.000071  \n",
       "var15                    0.006497  \n",
       "imp_ent_var16_ult1       0.000007  \n",
       "imp_op_var39_comer_ult1  0.012546  \n",
       "imp_op_var39_comer_ult3  0.013271  \n",
       "...                           ...  \n",
       "saldo_medio_var44_hace2  0.002889  \n",
       "saldo_medio_var44_hace3  0.003646  \n",
       "saldo_medio_var44_ult1   0.003258  \n",
       "saldo_medio_var44_ult3   0.003037  \n",
       "var38                         NaN  \n",
       "\n",
       "[272 rows x 272 columns]"
      ]
     },
     "execution_count": 17,
     "metadata": {},
     "output_type": "execute_result"
    }
   ],
   "source": [
    "# Create correlation matrix\n",
    "corr_matrix = pd.DataFrame(X_train_sel1).corr()\n",
    "\n",
    "#Seleciona apenas a parte acima da diagonal da matriz\n",
    "upper = corr_matrix.where(np.triu(np.ones(corr_matrix.shape), k=1).astype(bool))\n",
    "\n",
    "upper  "
   ]
  },
  {
   "cell_type": "code",
   "execution_count": 18,
   "id": "7e34d17b",
   "metadata": {},
   "outputs": [
    {
     "data": {
      "text/plain": [
       "['imp_op_var41_comer_ult1',\n",
       " 'imp_op_var41_comer_ult3',\n",
       " 'imp_op_var39_efect_ult1',\n",
       " 'imp_op_var39_efect_ult3',\n",
       " 'imp_op_var39_ult1',\n",
       " 'ind_var8',\n",
       " 'ind_var13_corto_0',\n",
       " 'ind_var13_corto',\n",
       " 'ind_var13',\n",
       " 'ind_var24',\n",
       " 'ind_var26_0',\n",
       " 'ind_var26_cte',\n",
       " 'ind_var26',\n",
       " 'ind_var25_0',\n",
       " 'ind_var25',\n",
       " 'ind_var37_0',\n",
       " 'ind_var37',\n",
       " 'ind_var40_0',\n",
       " 'ind_var41_0',\n",
       " 'num_var1_0',\n",
       " 'num_var5_0',\n",
       " 'num_var5',\n",
       " 'num_var8_0',\n",
       " 'num_var8',\n",
       " 'num_var12',\n",
       " 'num_var13_0',\n",
       " 'num_var13_corto_0',\n",
       " 'num_var13_corto',\n",
       " 'num_var13_largo_0',\n",
       " 'num_var13_largo',\n",
       " 'num_var13',\n",
       " 'num_var24_0',\n",
       " 'num_var24',\n",
       " 'num_var26',\n",
       " 'num_var25_0',\n",
       " 'num_var25',\n",
       " 'num_op_var40_ult3',\n",
       " 'num_op_var41_ult3',\n",
       " 'num_op_var39_hace2',\n",
       " 'num_op_var39_hace3',\n",
       " 'num_op_var39_ult1',\n",
       " 'num_op_var39_ult3',\n",
       " 'num_var31_0',\n",
       " 'num_var32',\n",
       " 'num_var35',\n",
       " 'num_var37_0',\n",
       " 'num_var37',\n",
       " 'num_var40_0',\n",
       " 'num_var40',\n",
       " 'num_var41_0',\n",
       " 'num_var39',\n",
       " 'num_var42_0',\n",
       " 'num_var44',\n",
       " 'saldo_var18',\n",
       " 'saldo_var24',\n",
       " 'saldo_var25',\n",
       " 'saldo_var29',\n",
       " 'saldo_var31',\n",
       " 'saldo_var42',\n",
       " 'delta_imp_amort_var34_1y3',\n",
       " 'delta_num_aport_var13_1y3',\n",
       " 'delta_num_aport_var17_1y3',\n",
       " 'delta_num_aport_var33_1y3',\n",
       " 'delta_num_compra_var44_1y3',\n",
       " 'delta_num_reemb_var13_1y3',\n",
       " 'delta_num_reemb_var17_1y3',\n",
       " 'delta_num_reemb_var33_1y3',\n",
       " 'delta_num_trasp_var17_in_1y3',\n",
       " 'delta_num_trasp_var17_out_1y3',\n",
       " 'delta_num_trasp_var33_in_1y3',\n",
       " 'delta_num_trasp_var33_out_1y3',\n",
       " 'delta_num_venta_var44_1y3',\n",
       " 'imp_amort_var18_ult1',\n",
       " 'imp_amort_var34_ult1',\n",
       " 'imp_aport_var17_hace3',\n",
       " 'imp_reemb_var33_ult1',\n",
       " 'imp_trasp_var33_out_ult1',\n",
       " 'imp_venta_var44_ult1',\n",
       " 'ind_var10cte_ult1',\n",
       " 'ind_var9_cte_ult1',\n",
       " 'ind_var9_ult1',\n",
       " 'num_med_var22_ult3',\n",
       " 'num_meses_var5_ult3',\n",
       " 'num_meses_var8_ult3',\n",
       " 'num_meses_var12_ult3',\n",
       " 'num_meses_var13_corto_ult3',\n",
       " 'num_op_var39_comer_ult1',\n",
       " 'num_op_var39_comer_ult3',\n",
       " 'num_op_var40_comer_ult3',\n",
       " 'num_op_var41_comer_ult1',\n",
       " 'num_op_var41_comer_ult3',\n",
       " 'num_op_var41_efect_ult3',\n",
       " 'num_op_var39_efect_ult1',\n",
       " 'num_op_var39_efect_ult3',\n",
       " 'num_var45_hace2',\n",
       " 'num_var45_ult3',\n",
       " 'saldo_medio_var8_ult1',\n",
       " 'saldo_medio_var8_ult3',\n",
       " 'saldo_medio_var12_ult1',\n",
       " 'saldo_medio_var12_ult3',\n",
       " 'saldo_medio_var13_corto_ult1',\n",
       " 'saldo_medio_var13_corto_ult3',\n",
       " 'saldo_medio_var13_largo_ult1',\n",
       " 'saldo_medio_var13_largo_ult3',\n",
       " 'saldo_medio_var13_medio_hace2',\n",
       " 'saldo_medio_var13_medio_ult1',\n",
       " 'saldo_medio_var13_medio_ult3',\n",
       " 'saldo_medio_var17_hace2',\n",
       " 'saldo_medio_var17_hace3',\n",
       " 'saldo_medio_var17_ult1',\n",
       " 'saldo_medio_var17_ult3',\n",
       " 'saldo_medio_var29_ult1',\n",
       " 'saldo_medio_var29_ult3',\n",
       " 'saldo_medio_var33_ult1',\n",
       " 'saldo_medio_var33_ult3',\n",
       " 'saldo_medio_var44_ult1',\n",
       " 'saldo_medio_var44_ult3']"
      ]
     },
     "execution_count": 18,
     "metadata": {},
     "output_type": "execute_result"
    }
   ],
   "source": [
    "# Encontra o índice da coluna de features cuja correlação com outra feature é maior que 0.9\n",
    "to_drop = [column for column in upper.columns if any(upper[column] > 0.9)]\n",
    "\n",
    "to_drop"
   ]
  },
  {
   "cell_type": "code",
   "execution_count": 19,
   "id": "aca4b97f",
   "metadata": {},
   "outputs": [
    {
     "data": {
      "text/plain": [
       "117"
      ]
     },
     "execution_count": 19,
     "metadata": {},
     "output_type": "execute_result"
    }
   ],
   "source": [
    "# Número de features a serem eliminadas\n",
    "len(to_drop)"
   ]
  },
  {
   "cell_type": "code",
   "execution_count": 20,
   "id": "9f2834ec",
   "metadata": {},
   "outputs": [
    {
     "data": {
      "text/html": [
       "<div>\n",
       "<style scoped>\n",
       "    .dataframe tbody tr th:only-of-type {\n",
       "        vertical-align: middle;\n",
       "    }\n",
       "\n",
       "    .dataframe tbody tr th {\n",
       "        vertical-align: top;\n",
       "    }\n",
       "\n",
       "    .dataframe thead th {\n",
       "        text-align: right;\n",
       "    }\n",
       "</style>\n",
       "<table border=\"1\" class=\"dataframe\">\n",
       "  <thead>\n",
       "    <tr style=\"text-align: right;\">\n",
       "      <th></th>\n",
       "      <th>var3</th>\n",
       "      <th>var15</th>\n",
       "      <th>imp_ent_var16_ult1</th>\n",
       "      <th>imp_op_var39_comer_ult1</th>\n",
       "      <th>imp_op_var39_comer_ult3</th>\n",
       "      <th>imp_op_var40_comer_ult1</th>\n",
       "      <th>imp_op_var40_comer_ult3</th>\n",
       "      <th>imp_op_var40_efect_ult1</th>\n",
       "      <th>imp_op_var40_efect_ult3</th>\n",
       "      <th>imp_op_var40_ult1</th>\n",
       "      <th>...</th>\n",
       "      <th>saldo_medio_var13_corto_hace3</th>\n",
       "      <th>saldo_medio_var13_largo_hace2</th>\n",
       "      <th>saldo_medio_var13_largo_hace3</th>\n",
       "      <th>saldo_medio_var29_hace2</th>\n",
       "      <th>saldo_medio_var29_hace3</th>\n",
       "      <th>saldo_medio_var33_hace2</th>\n",
       "      <th>saldo_medio_var33_hace3</th>\n",
       "      <th>saldo_medio_var44_hace2</th>\n",
       "      <th>saldo_medio_var44_hace3</th>\n",
       "      <th>var38</th>\n",
       "    </tr>\n",
       "  </thead>\n",
       "  <tbody>\n",
       "    <tr>\n",
       "      <th>0</th>\n",
       "      <td>2.0</td>\n",
       "      <td>23.0</td>\n",
       "      <td>0.0</td>\n",
       "      <td>0.0</td>\n",
       "      <td>0.0</td>\n",
       "      <td>0.0</td>\n",
       "      <td>0.0</td>\n",
       "      <td>0.0</td>\n",
       "      <td>0.0</td>\n",
       "      <td>0.0</td>\n",
       "      <td>...</td>\n",
       "      <td>0.00</td>\n",
       "      <td>0.0</td>\n",
       "      <td>0.0</td>\n",
       "      <td>0.0</td>\n",
       "      <td>0.0</td>\n",
       "      <td>0.0</td>\n",
       "      <td>0.0</td>\n",
       "      <td>0.0</td>\n",
       "      <td>0.0</td>\n",
       "      <td>39205.170000</td>\n",
       "    </tr>\n",
       "    <tr>\n",
       "      <th>1</th>\n",
       "      <td>2.0</td>\n",
       "      <td>34.0</td>\n",
       "      <td>0.0</td>\n",
       "      <td>0.0</td>\n",
       "      <td>0.0</td>\n",
       "      <td>0.0</td>\n",
       "      <td>0.0</td>\n",
       "      <td>0.0</td>\n",
       "      <td>0.0</td>\n",
       "      <td>0.0</td>\n",
       "      <td>...</td>\n",
       "      <td>122.22</td>\n",
       "      <td>0.0</td>\n",
       "      <td>0.0</td>\n",
       "      <td>0.0</td>\n",
       "      <td>0.0</td>\n",
       "      <td>0.0</td>\n",
       "      <td>0.0</td>\n",
       "      <td>0.0</td>\n",
       "      <td>0.0</td>\n",
       "      <td>49278.030000</td>\n",
       "    </tr>\n",
       "    <tr>\n",
       "      <th>2</th>\n",
       "      <td>2.0</td>\n",
       "      <td>23.0</td>\n",
       "      <td>0.0</td>\n",
       "      <td>0.0</td>\n",
       "      <td>0.0</td>\n",
       "      <td>0.0</td>\n",
       "      <td>0.0</td>\n",
       "      <td>0.0</td>\n",
       "      <td>0.0</td>\n",
       "      <td>0.0</td>\n",
       "      <td>...</td>\n",
       "      <td>0.00</td>\n",
       "      <td>0.0</td>\n",
       "      <td>0.0</td>\n",
       "      <td>0.0</td>\n",
       "      <td>0.0</td>\n",
       "      <td>0.0</td>\n",
       "      <td>0.0</td>\n",
       "      <td>0.0</td>\n",
       "      <td>0.0</td>\n",
       "      <td>67333.770000</td>\n",
       "    </tr>\n",
       "    <tr>\n",
       "      <th>3</th>\n",
       "      <td>2.0</td>\n",
       "      <td>37.0</td>\n",
       "      <td>0.0</td>\n",
       "      <td>195.0</td>\n",
       "      <td>195.0</td>\n",
       "      <td>0.0</td>\n",
       "      <td>0.0</td>\n",
       "      <td>0.0</td>\n",
       "      <td>0.0</td>\n",
       "      <td>0.0</td>\n",
       "      <td>...</td>\n",
       "      <td>0.00</td>\n",
       "      <td>0.0</td>\n",
       "      <td>0.0</td>\n",
       "      <td>0.0</td>\n",
       "      <td>0.0</td>\n",
       "      <td>0.0</td>\n",
       "      <td>0.0</td>\n",
       "      <td>0.0</td>\n",
       "      <td>0.0</td>\n",
       "      <td>64007.970000</td>\n",
       "    </tr>\n",
       "    <tr>\n",
       "      <th>4</th>\n",
       "      <td>2.0</td>\n",
       "      <td>39.0</td>\n",
       "      <td>0.0</td>\n",
       "      <td>0.0</td>\n",
       "      <td>0.0</td>\n",
       "      <td>0.0</td>\n",
       "      <td>0.0</td>\n",
       "      <td>0.0</td>\n",
       "      <td>0.0</td>\n",
       "      <td>0.0</td>\n",
       "      <td>...</td>\n",
       "      <td>0.00</td>\n",
       "      <td>0.0</td>\n",
       "      <td>0.0</td>\n",
       "      <td>0.0</td>\n",
       "      <td>0.0</td>\n",
       "      <td>0.0</td>\n",
       "      <td>0.0</td>\n",
       "      <td>0.0</td>\n",
       "      <td>0.0</td>\n",
       "      <td>117310.979016</td>\n",
       "    </tr>\n",
       "    <tr>\n",
       "      <th>...</th>\n",
       "      <td>...</td>\n",
       "      <td>...</td>\n",
       "      <td>...</td>\n",
       "      <td>...</td>\n",
       "      <td>...</td>\n",
       "      <td>...</td>\n",
       "      <td>...</td>\n",
       "      <td>...</td>\n",
       "      <td>...</td>\n",
       "      <td>...</td>\n",
       "      <td>...</td>\n",
       "      <td>...</td>\n",
       "      <td>...</td>\n",
       "      <td>...</td>\n",
       "      <td>...</td>\n",
       "      <td>...</td>\n",
       "      <td>...</td>\n",
       "      <td>...</td>\n",
       "      <td>...</td>\n",
       "      <td>...</td>\n",
       "      <td>...</td>\n",
       "    </tr>\n",
       "    <tr>\n",
       "      <th>76015</th>\n",
       "      <td>2.0</td>\n",
       "      <td>48.0</td>\n",
       "      <td>0.0</td>\n",
       "      <td>0.0</td>\n",
       "      <td>0.0</td>\n",
       "      <td>0.0</td>\n",
       "      <td>0.0</td>\n",
       "      <td>0.0</td>\n",
       "      <td>0.0</td>\n",
       "      <td>0.0</td>\n",
       "      <td>...</td>\n",
       "      <td>0.00</td>\n",
       "      <td>0.0</td>\n",
       "      <td>0.0</td>\n",
       "      <td>0.0</td>\n",
       "      <td>0.0</td>\n",
       "      <td>0.0</td>\n",
       "      <td>0.0</td>\n",
       "      <td>0.0</td>\n",
       "      <td>0.0</td>\n",
       "      <td>60926.490000</td>\n",
       "    </tr>\n",
       "    <tr>\n",
       "      <th>76016</th>\n",
       "      <td>2.0</td>\n",
       "      <td>39.0</td>\n",
       "      <td>0.0</td>\n",
       "      <td>0.0</td>\n",
       "      <td>0.0</td>\n",
       "      <td>0.0</td>\n",
       "      <td>0.0</td>\n",
       "      <td>0.0</td>\n",
       "      <td>0.0</td>\n",
       "      <td>0.0</td>\n",
       "      <td>...</td>\n",
       "      <td>0.00</td>\n",
       "      <td>0.0</td>\n",
       "      <td>0.0</td>\n",
       "      <td>0.0</td>\n",
       "      <td>0.0</td>\n",
       "      <td>0.0</td>\n",
       "      <td>0.0</td>\n",
       "      <td>0.0</td>\n",
       "      <td>0.0</td>\n",
       "      <td>118634.520000</td>\n",
       "    </tr>\n",
       "    <tr>\n",
       "      <th>76017</th>\n",
       "      <td>2.0</td>\n",
       "      <td>23.0</td>\n",
       "      <td>0.0</td>\n",
       "      <td>0.0</td>\n",
       "      <td>0.0</td>\n",
       "      <td>0.0</td>\n",
       "      <td>0.0</td>\n",
       "      <td>0.0</td>\n",
       "      <td>0.0</td>\n",
       "      <td>0.0</td>\n",
       "      <td>...</td>\n",
       "      <td>0.00</td>\n",
       "      <td>0.0</td>\n",
       "      <td>0.0</td>\n",
       "      <td>0.0</td>\n",
       "      <td>0.0</td>\n",
       "      <td>0.0</td>\n",
       "      <td>0.0</td>\n",
       "      <td>0.0</td>\n",
       "      <td>0.0</td>\n",
       "      <td>74028.150000</td>\n",
       "    </tr>\n",
       "    <tr>\n",
       "      <th>76018</th>\n",
       "      <td>2.0</td>\n",
       "      <td>25.0</td>\n",
       "      <td>0.0</td>\n",
       "      <td>0.0</td>\n",
       "      <td>0.0</td>\n",
       "      <td>0.0</td>\n",
       "      <td>0.0</td>\n",
       "      <td>0.0</td>\n",
       "      <td>0.0</td>\n",
       "      <td>0.0</td>\n",
       "      <td>...</td>\n",
       "      <td>0.00</td>\n",
       "      <td>0.0</td>\n",
       "      <td>0.0</td>\n",
       "      <td>0.0</td>\n",
       "      <td>0.0</td>\n",
       "      <td>0.0</td>\n",
       "      <td>0.0</td>\n",
       "      <td>0.0</td>\n",
       "      <td>0.0</td>\n",
       "      <td>84278.160000</td>\n",
       "    </tr>\n",
       "    <tr>\n",
       "      <th>76019</th>\n",
       "      <td>2.0</td>\n",
       "      <td>46.0</td>\n",
       "      <td>0.0</td>\n",
       "      <td>0.0</td>\n",
       "      <td>0.0</td>\n",
       "      <td>0.0</td>\n",
       "      <td>0.0</td>\n",
       "      <td>0.0</td>\n",
       "      <td>0.0</td>\n",
       "      <td>0.0</td>\n",
       "      <td>...</td>\n",
       "      <td>0.00</td>\n",
       "      <td>0.0</td>\n",
       "      <td>0.0</td>\n",
       "      <td>0.0</td>\n",
       "      <td>0.0</td>\n",
       "      <td>0.0</td>\n",
       "      <td>0.0</td>\n",
       "      <td>0.0</td>\n",
       "      <td>0.0</td>\n",
       "      <td>117310.979016</td>\n",
       "    </tr>\n",
       "  </tbody>\n",
       "</table>\n",
       "<p>76020 rows × 155 columns</p>\n",
       "</div>"
      ],
      "text/plain": [
       "       var3  var15  imp_ent_var16_ult1  imp_op_var39_comer_ult1  \\\n",
       "0       2.0   23.0                 0.0                      0.0   \n",
       "1       2.0   34.0                 0.0                      0.0   \n",
       "2       2.0   23.0                 0.0                      0.0   \n",
       "3       2.0   37.0                 0.0                    195.0   \n",
       "4       2.0   39.0                 0.0                      0.0   \n",
       "...     ...    ...                 ...                      ...   \n",
       "76015   2.0   48.0                 0.0                      0.0   \n",
       "76016   2.0   39.0                 0.0                      0.0   \n",
       "76017   2.0   23.0                 0.0                      0.0   \n",
       "76018   2.0   25.0                 0.0                      0.0   \n",
       "76019   2.0   46.0                 0.0                      0.0   \n",
       "\n",
       "       imp_op_var39_comer_ult3  imp_op_var40_comer_ult1  \\\n",
       "0                          0.0                      0.0   \n",
       "1                          0.0                      0.0   \n",
       "2                          0.0                      0.0   \n",
       "3                        195.0                      0.0   \n",
       "4                          0.0                      0.0   \n",
       "...                        ...                      ...   \n",
       "76015                      0.0                      0.0   \n",
       "76016                      0.0                      0.0   \n",
       "76017                      0.0                      0.0   \n",
       "76018                      0.0                      0.0   \n",
       "76019                      0.0                      0.0   \n",
       "\n",
       "       imp_op_var40_comer_ult3  imp_op_var40_efect_ult1  \\\n",
       "0                          0.0                      0.0   \n",
       "1                          0.0                      0.0   \n",
       "2                          0.0                      0.0   \n",
       "3                          0.0                      0.0   \n",
       "4                          0.0                      0.0   \n",
       "...                        ...                      ...   \n",
       "76015                      0.0                      0.0   \n",
       "76016                      0.0                      0.0   \n",
       "76017                      0.0                      0.0   \n",
       "76018                      0.0                      0.0   \n",
       "76019                      0.0                      0.0   \n",
       "\n",
       "       imp_op_var40_efect_ult3  imp_op_var40_ult1  ...  \\\n",
       "0                          0.0                0.0  ...   \n",
       "1                          0.0                0.0  ...   \n",
       "2                          0.0                0.0  ...   \n",
       "3                          0.0                0.0  ...   \n",
       "4                          0.0                0.0  ...   \n",
       "...                        ...                ...  ...   \n",
       "76015                      0.0                0.0  ...   \n",
       "76016                      0.0                0.0  ...   \n",
       "76017                      0.0                0.0  ...   \n",
       "76018                      0.0                0.0  ...   \n",
       "76019                      0.0                0.0  ...   \n",
       "\n",
       "       saldo_medio_var13_corto_hace3  saldo_medio_var13_largo_hace2  \\\n",
       "0                               0.00                            0.0   \n",
       "1                             122.22                            0.0   \n",
       "2                               0.00                            0.0   \n",
       "3                               0.00                            0.0   \n",
       "4                               0.00                            0.0   \n",
       "...                              ...                            ...   \n",
       "76015                           0.00                            0.0   \n",
       "76016                           0.00                            0.0   \n",
       "76017                           0.00                            0.0   \n",
       "76018                           0.00                            0.0   \n",
       "76019                           0.00                            0.0   \n",
       "\n",
       "       saldo_medio_var13_largo_hace3  saldo_medio_var29_hace2  \\\n",
       "0                                0.0                      0.0   \n",
       "1                                0.0                      0.0   \n",
       "2                                0.0                      0.0   \n",
       "3                                0.0                      0.0   \n",
       "4                                0.0                      0.0   \n",
       "...                              ...                      ...   \n",
       "76015                            0.0                      0.0   \n",
       "76016                            0.0                      0.0   \n",
       "76017                            0.0                      0.0   \n",
       "76018                            0.0                      0.0   \n",
       "76019                            0.0                      0.0   \n",
       "\n",
       "       saldo_medio_var29_hace3  saldo_medio_var33_hace2  \\\n",
       "0                          0.0                      0.0   \n",
       "1                          0.0                      0.0   \n",
       "2                          0.0                      0.0   \n",
       "3                          0.0                      0.0   \n",
       "4                          0.0                      0.0   \n",
       "...                        ...                      ...   \n",
       "76015                      0.0                      0.0   \n",
       "76016                      0.0                      0.0   \n",
       "76017                      0.0                      0.0   \n",
       "76018                      0.0                      0.0   \n",
       "76019                      0.0                      0.0   \n",
       "\n",
       "       saldo_medio_var33_hace3  saldo_medio_var44_hace2  \\\n",
       "0                          0.0                      0.0   \n",
       "1                          0.0                      0.0   \n",
       "2                          0.0                      0.0   \n",
       "3                          0.0                      0.0   \n",
       "4                          0.0                      0.0   \n",
       "...                        ...                      ...   \n",
       "76015                      0.0                      0.0   \n",
       "76016                      0.0                      0.0   \n",
       "76017                      0.0                      0.0   \n",
       "76018                      0.0                      0.0   \n",
       "76019                      0.0                      0.0   \n",
       "\n",
       "       saldo_medio_var44_hace3          var38  \n",
       "0                          0.0   39205.170000  \n",
       "1                          0.0   49278.030000  \n",
       "2                          0.0   67333.770000  \n",
       "3                          0.0   64007.970000  \n",
       "4                          0.0  117310.979016  \n",
       "...                        ...            ...  \n",
       "76015                      0.0   60926.490000  \n",
       "76016                      0.0  118634.520000  \n",
       "76017                      0.0   74028.150000  \n",
       "76018                      0.0   84278.160000  \n",
       "76019                      0.0  117310.979016  \n",
       "\n",
       "[76020 rows x 155 columns]"
      ]
     },
     "execution_count": 20,
     "metadata": {},
     "output_type": "execute_result"
    }
   ],
   "source": [
    "# Dataset após segunda técnica de feature selection\n",
    "X_train_sel2 = X_train_sel1.drop(to_drop, axis = 1)\n",
    "\n",
    "X_train_sel2"
   ]
  },
  {
   "cell_type": "code",
   "execution_count": 21,
   "id": "7c2e169e",
   "metadata": {},
   "outputs": [
    {
     "data": {
      "text/plain": [
       "(76020, 155)"
      ]
     },
     "execution_count": 21,
     "metadata": {},
     "output_type": "execute_result"
    }
   ],
   "source": [
    "X_train_sel2.shape"
   ]
  },
  {
   "cell_type": "markdown",
   "id": "101fb630",
   "metadata": {},
   "source": [
    "## Algoritmo ExtraTrees para seleção de variáveis"
   ]
  },
  {
   "cell_type": "markdown",
   "id": "6ef4d95c",
   "metadata": {},
   "source": [
    "Alguns algoritmos de Machine Learning podem ser utilizados para selecionar as variáveis mais importantes para as previsões. Será utilizado o algoritmo ExtraTrees para a obtenção das variáveis mais importantes."
   ]
  },
  {
   "cell_type": "code",
   "execution_count": 22,
   "id": "8063d673",
   "metadata": {},
   "outputs": [
    {
     "data": {
      "text/html": [
       "<style>#sk-container-id-2 {color: black;background-color: white;}#sk-container-id-2 pre{padding: 0;}#sk-container-id-2 div.sk-toggleable {background-color: white;}#sk-container-id-2 label.sk-toggleable__label {cursor: pointer;display: block;width: 100%;margin-bottom: 0;padding: 0.3em;box-sizing: border-box;text-align: center;}#sk-container-id-2 label.sk-toggleable__label-arrow:before {content: \"▸\";float: left;margin-right: 0.25em;color: #696969;}#sk-container-id-2 label.sk-toggleable__label-arrow:hover:before {color: black;}#sk-container-id-2 div.sk-estimator:hover label.sk-toggleable__label-arrow:before {color: black;}#sk-container-id-2 div.sk-toggleable__content {max-height: 0;max-width: 0;overflow: hidden;text-align: left;background-color: #f0f8ff;}#sk-container-id-2 div.sk-toggleable__content pre {margin: 0.2em;color: black;border-radius: 0.25em;background-color: #f0f8ff;}#sk-container-id-2 input.sk-toggleable__control:checked~div.sk-toggleable__content {max-height: 200px;max-width: 100%;overflow: auto;}#sk-container-id-2 input.sk-toggleable__control:checked~label.sk-toggleable__label-arrow:before {content: \"▾\";}#sk-container-id-2 div.sk-estimator input.sk-toggleable__control:checked~label.sk-toggleable__label {background-color: #d4ebff;}#sk-container-id-2 div.sk-label input.sk-toggleable__control:checked~label.sk-toggleable__label {background-color: #d4ebff;}#sk-container-id-2 input.sk-hidden--visually {border: 0;clip: rect(1px 1px 1px 1px);clip: rect(1px, 1px, 1px, 1px);height: 1px;margin: -1px;overflow: hidden;padding: 0;position: absolute;width: 1px;}#sk-container-id-2 div.sk-estimator {font-family: monospace;background-color: #f0f8ff;border: 1px dotted black;border-radius: 0.25em;box-sizing: border-box;margin-bottom: 0.5em;}#sk-container-id-2 div.sk-estimator:hover {background-color: #d4ebff;}#sk-container-id-2 div.sk-parallel-item::after {content: \"\";width: 100%;border-bottom: 1px solid gray;flex-grow: 1;}#sk-container-id-2 div.sk-label:hover label.sk-toggleable__label {background-color: #d4ebff;}#sk-container-id-2 div.sk-serial::before {content: \"\";position: absolute;border-left: 1px solid gray;box-sizing: border-box;top: 0;bottom: 0;left: 50%;z-index: 0;}#sk-container-id-2 div.sk-serial {display: flex;flex-direction: column;align-items: center;background-color: white;padding-right: 0.2em;padding-left: 0.2em;position: relative;}#sk-container-id-2 div.sk-item {position: relative;z-index: 1;}#sk-container-id-2 div.sk-parallel {display: flex;align-items: stretch;justify-content: center;background-color: white;position: relative;}#sk-container-id-2 div.sk-item::before, #sk-container-id-2 div.sk-parallel-item::before {content: \"\";position: absolute;border-left: 1px solid gray;box-sizing: border-box;top: 0;bottom: 0;left: 50%;z-index: -1;}#sk-container-id-2 div.sk-parallel-item {display: flex;flex-direction: column;z-index: 1;position: relative;background-color: white;}#sk-container-id-2 div.sk-parallel-item:first-child::after {align-self: flex-end;width: 50%;}#sk-container-id-2 div.sk-parallel-item:last-child::after {align-self: flex-start;width: 50%;}#sk-container-id-2 div.sk-parallel-item:only-child::after {width: 0;}#sk-container-id-2 div.sk-dashed-wrapped {border: 1px dashed gray;margin: 0 0.4em 0.5em 0.4em;box-sizing: border-box;padding-bottom: 0.4em;background-color: white;}#sk-container-id-2 div.sk-label label {font-family: monospace;font-weight: bold;display: inline-block;line-height: 1.2em;}#sk-container-id-2 div.sk-label-container {text-align: center;}#sk-container-id-2 div.sk-container {/* jupyter's `normalize.less` sets `[hidden] { display: none; }` but bootstrap.min.css set `[hidden] { display: none !important; }` so we also need the `!important` here to be able to override the default hidden behavior on the sphinx rendered scikit-learn.org. See: https://github.com/scikit-learn/scikit-learn/issues/21755 */display: inline-block !important;position: relative;}#sk-container-id-2 div.sk-text-repr-fallback {display: none;}</style><div id=\"sk-container-id-2\" class=\"sk-top-container\"><div class=\"sk-text-repr-fallback\"><pre>ExtraTreeClassifier(criterion=&#x27;entropy&#x27;)</pre><b>In a Jupyter environment, please rerun this cell to show the HTML representation or trust the notebook. <br />On GitHub, the HTML representation is unable to render, please try loading this page with nbviewer.org.</b></div><div class=\"sk-container\" hidden><div class=\"sk-item\"><div class=\"sk-estimator sk-toggleable\"><input class=\"sk-toggleable__control sk-hidden--visually\" id=\"sk-estimator-id-2\" type=\"checkbox\" checked><label for=\"sk-estimator-id-2\" class=\"sk-toggleable__label sk-toggleable__label-arrow\">ExtraTreeClassifier</label><div class=\"sk-toggleable__content\"><pre>ExtraTreeClassifier(criterion=&#x27;entropy&#x27;)</pre></div></div></div></div></div>"
      ],
      "text/plain": [
       "ExtraTreeClassifier(criterion='entropy')"
      ]
     },
     "execution_count": 22,
     "metadata": {},
     "output_type": "execute_result"
    }
   ],
   "source": [
    "ex_tree = ExtraTreeClassifier(criterion = 'entropy')\n",
    "\n",
    "ex_tree.fit(X_train_sel2, y_train)"
   ]
  },
  {
   "cell_type": "code",
   "execution_count": 23,
   "id": "81a0af0d",
   "metadata": {},
   "outputs": [
    {
     "data": {
      "text/html": [
       "<div>\n",
       "<style scoped>\n",
       "    .dataframe tbody tr th:only-of-type {\n",
       "        vertical-align: middle;\n",
       "    }\n",
       "\n",
       "    .dataframe tbody tr th {\n",
       "        vertical-align: top;\n",
       "    }\n",
       "\n",
       "    .dataframe thead th {\n",
       "        text-align: right;\n",
       "    }\n",
       "</style>\n",
       "<table border=\"1\" class=\"dataframe\">\n",
       "  <thead>\n",
       "    <tr style=\"text-align: right;\">\n",
       "      <th></th>\n",
       "      <th>Feature Importance</th>\n",
       "    </tr>\n",
       "  </thead>\n",
       "  <tbody>\n",
       "    <tr>\n",
       "      <th>var3</th>\n",
       "      <td>0.003741</td>\n",
       "    </tr>\n",
       "    <tr>\n",
       "      <th>var15</th>\n",
       "      <td>0.171683</td>\n",
       "    </tr>\n",
       "    <tr>\n",
       "      <th>imp_ent_var16_ult1</th>\n",
       "      <td>0.003224</td>\n",
       "    </tr>\n",
       "    <tr>\n",
       "      <th>imp_op_var39_comer_ult1</th>\n",
       "      <td>0.005427</td>\n",
       "    </tr>\n",
       "    <tr>\n",
       "      <th>imp_op_var39_comer_ult3</th>\n",
       "      <td>0.007158</td>\n",
       "    </tr>\n",
       "    <tr>\n",
       "      <th>...</th>\n",
       "      <td>...</td>\n",
       "    </tr>\n",
       "    <tr>\n",
       "      <th>saldo_medio_var33_hace2</th>\n",
       "      <td>0.000000</td>\n",
       "    </tr>\n",
       "    <tr>\n",
       "      <th>saldo_medio_var33_hace3</th>\n",
       "      <td>0.000000</td>\n",
       "    </tr>\n",
       "    <tr>\n",
       "      <th>saldo_medio_var44_hace2</th>\n",
       "      <td>0.000004</td>\n",
       "    </tr>\n",
       "    <tr>\n",
       "      <th>saldo_medio_var44_hace3</th>\n",
       "      <td>0.000000</td>\n",
       "    </tr>\n",
       "    <tr>\n",
       "      <th>var38</th>\n",
       "      <td>0.330702</td>\n",
       "    </tr>\n",
       "  </tbody>\n",
       "</table>\n",
       "<p>155 rows × 1 columns</p>\n",
       "</div>"
      ],
      "text/plain": [
       "                         Feature Importance\n",
       "var3                               0.003741\n",
       "var15                              0.171683\n",
       "imp_ent_var16_ult1                 0.003224\n",
       "imp_op_var39_comer_ult1            0.005427\n",
       "imp_op_var39_comer_ult3            0.007158\n",
       "...                                     ...\n",
       "saldo_medio_var33_hace2            0.000000\n",
       "saldo_medio_var33_hace3            0.000000\n",
       "saldo_medio_var44_hace2            0.000004\n",
       "saldo_medio_var44_hace3            0.000000\n",
       "var38                              0.330702\n",
       "\n",
       "[155 rows x 1 columns]"
      ]
     },
     "execution_count": 23,
     "metadata": {},
     "output_type": "execute_result"
    }
   ],
   "source": [
    "# Extrai a importância\n",
    "feature_importance = ex_tree.feature_importances_\n",
    "feature_names = ex_tree.feature_names_in_\n",
    "\n",
    "# Dicionário de importâncias\n",
    "importance_dict = {feature_names[i]: feature_importance[i] for i in range(len(feature_names))}\n",
    "\n",
    "# Constrói um DataFrame a partir do dicionário\n",
    "df_imp = pd.DataFrame(importance_dict, index=['Feature Importance'])\n",
    "\n",
    "# Transpõe o Dataframe\n",
    "df_imp = df_imp.T\n",
    "\n",
    "# Mostra o resultado final\n",
    "df_imp"
   ]
  },
  {
   "cell_type": "code",
   "execution_count": 24,
   "id": "8b27d6a9",
   "metadata": {},
   "outputs": [],
   "source": [
    "plot = df_imp.sort_values(ascending=False, by=['Feature Importance'])"
   ]
  },
  {
   "cell_type": "code",
   "execution_count": 25,
   "id": "6134847c",
   "metadata": {},
   "outputs": [
    {
     "data": {
      "image/png": "[encoded data removed]",
      "text/plain": [
       "<Figure size 2000x1200 with 1 Axes>"
      ]
     },
     "metadata": {},
     "output_type": "display_data"
    }
   ],
   "source": [
    "plt.figure(figsize=(20,12))\n",
    "sns.barplot(data = plot, x=plot.index, y = 'Feature Importance')\n",
    "plt.title('Importância da Feature para o Algoritmo ExtraTreeClassifier')\n",
    "plt.xticks(rotation = 90);"
   ]
  },
  {
   "cell_type": "code",
   "execution_count": 26,
   "id": "ff39444a",
   "metadata": {
    "scrolled": false
   },
   "outputs": [
    {
     "data": {
      "text/html": [
       "<div>\n",
       "<style scoped>\n",
       "    .dataframe tbody tr th:only-of-type {\n",
       "        vertical-align: middle;\n",
       "    }\n",
       "\n",
       "    .dataframe tbody tr th {\n",
       "        vertical-align: top;\n",
       "    }\n",
       "\n",
       "    .dataframe thead th {\n",
       "        text-align: right;\n",
       "    }\n",
       "</style>\n",
       "<table border=\"1\" class=\"dataframe\">\n",
       "  <thead>\n",
       "    <tr style=\"text-align: right;\">\n",
       "      <th></th>\n",
       "      <th>Feature Importance</th>\n",
       "    </tr>\n",
       "  </thead>\n",
       "  <tbody>\n",
       "    <tr>\n",
       "      <th>var3</th>\n",
       "      <td>0.003741</td>\n",
       "    </tr>\n",
       "    <tr>\n",
       "      <th>var15</th>\n",
       "      <td>0.171683</td>\n",
       "    </tr>\n",
       "    <tr>\n",
       "      <th>imp_ent_var16_ult1</th>\n",
       "      <td>0.003224</td>\n",
       "    </tr>\n",
       "    <tr>\n",
       "      <th>imp_op_var39_comer_ult1</th>\n",
       "      <td>0.005427</td>\n",
       "    </tr>\n",
       "    <tr>\n",
       "      <th>imp_op_var39_comer_ult3</th>\n",
       "      <td>0.007158</td>\n",
       "    </tr>\n",
       "    <tr>\n",
       "      <th>...</th>\n",
       "      <td>...</td>\n",
       "    </tr>\n",
       "    <tr>\n",
       "      <th>saldo_medio_var13_corto_hace2</th>\n",
       "      <td>0.001391</td>\n",
       "    </tr>\n",
       "    <tr>\n",
       "      <th>saldo_medio_var13_corto_hace3</th>\n",
       "      <td>0.000122</td>\n",
       "    </tr>\n",
       "    <tr>\n",
       "      <th>saldo_medio_var13_largo_hace2</th>\n",
       "      <td>0.000111</td>\n",
       "    </tr>\n",
       "    <tr>\n",
       "      <th>saldo_medio_var44_hace2</th>\n",
       "      <td>0.000004</td>\n",
       "    </tr>\n",
       "    <tr>\n",
       "      <th>var38</th>\n",
       "      <td>0.330702</td>\n",
       "    </tr>\n",
       "  </tbody>\n",
       "</table>\n",
       "<p>119 rows × 1 columns</p>\n",
       "</div>"
      ],
      "text/plain": [
       "                               Feature Importance\n",
       "var3                                     0.003741\n",
       "var15                                    0.171683\n",
       "imp_ent_var16_ult1                       0.003224\n",
       "imp_op_var39_comer_ult1                  0.005427\n",
       "imp_op_var39_comer_ult3                  0.007158\n",
       "...                                           ...\n",
       "saldo_medio_var13_corto_hace2            0.001391\n",
       "saldo_medio_var13_corto_hace3            0.000122\n",
       "saldo_medio_var13_largo_hace2            0.000111\n",
       "saldo_medio_var44_hace2                  0.000004\n",
       "var38                                    0.330702\n",
       "\n",
       "[119 rows x 1 columns]"
      ]
     },
     "execution_count": 26,
     "metadata": {},
     "output_type": "execute_result"
    }
   ],
   "source": [
    "# Remove as features com zero importância\n",
    "df_importance = df_imp.loc[df_imp['Feature Importance'] != 0]\n",
    "\n",
    "df_importance"
   ]
  },
  {
   "cell_type": "code",
   "execution_count": 27,
   "id": "98da87d8",
   "metadata": {},
   "outputs": [
    {
     "data": {
      "text/html": [
       "<div>\n",
       "<style scoped>\n",
       "    .dataframe tbody tr th:only-of-type {\n",
       "        vertical-align: middle;\n",
       "    }\n",
       "\n",
       "    .dataframe tbody tr th {\n",
       "        vertical-align: top;\n",
       "    }\n",
       "\n",
       "    .dataframe thead th {\n",
       "        text-align: right;\n",
       "    }\n",
       "</style>\n",
       "<table border=\"1\" class=\"dataframe\">\n",
       "  <thead>\n",
       "    <tr style=\"text-align: right;\">\n",
       "      <th></th>\n",
       "      <th>var3</th>\n",
       "      <th>var15</th>\n",
       "      <th>imp_ent_var16_ult1</th>\n",
       "      <th>imp_op_var39_comer_ult1</th>\n",
       "      <th>imp_op_var39_comer_ult3</th>\n",
       "      <th>imp_op_var40_comer_ult1</th>\n",
       "      <th>imp_op_var40_comer_ult3</th>\n",
       "      <th>imp_op_var40_efect_ult1</th>\n",
       "      <th>imp_op_var40_ult1</th>\n",
       "      <th>imp_op_var41_efect_ult1</th>\n",
       "      <th>...</th>\n",
       "      <th>saldo_medio_var5_ult3</th>\n",
       "      <th>saldo_medio_var8_hace2</th>\n",
       "      <th>saldo_medio_var8_hace3</th>\n",
       "      <th>saldo_medio_var12_hace2</th>\n",
       "      <th>saldo_medio_var12_hace3</th>\n",
       "      <th>saldo_medio_var13_corto_hace2</th>\n",
       "      <th>saldo_medio_var13_corto_hace3</th>\n",
       "      <th>saldo_medio_var13_largo_hace2</th>\n",
       "      <th>saldo_medio_var44_hace2</th>\n",
       "      <th>var38</th>\n",
       "    </tr>\n",
       "  </thead>\n",
       "  <tbody>\n",
       "    <tr>\n",
       "      <th>0</th>\n",
       "      <td>2.0</td>\n",
       "      <td>23.0</td>\n",
       "      <td>0.0</td>\n",
       "      <td>0.0</td>\n",
       "      <td>0.0</td>\n",
       "      <td>0.0</td>\n",
       "      <td>0.0</td>\n",
       "      <td>0.0</td>\n",
       "      <td>0.0</td>\n",
       "      <td>0.0</td>\n",
       "      <td>...</td>\n",
       "      <td>0.00</td>\n",
       "      <td>0.0</td>\n",
       "      <td>0.0</td>\n",
       "      <td>0.00</td>\n",
       "      <td>0.0</td>\n",
       "      <td>0.0</td>\n",
       "      <td>0.00</td>\n",
       "      <td>0.0</td>\n",
       "      <td>0.0</td>\n",
       "      <td>39205.170000</td>\n",
       "    </tr>\n",
       "    <tr>\n",
       "      <th>1</th>\n",
       "      <td>2.0</td>\n",
       "      <td>34.0</td>\n",
       "      <td>0.0</td>\n",
       "      <td>0.0</td>\n",
       "      <td>0.0</td>\n",
       "      <td>0.0</td>\n",
       "      <td>0.0</td>\n",
       "      <td>0.0</td>\n",
       "      <td>0.0</td>\n",
       "      <td>0.0</td>\n",
       "      <td>...</td>\n",
       "      <td>0.00</td>\n",
       "      <td>0.0</td>\n",
       "      <td>0.0</td>\n",
       "      <td>0.00</td>\n",
       "      <td>0.0</td>\n",
       "      <td>300.0</td>\n",
       "      <td>122.22</td>\n",
       "      <td>0.0</td>\n",
       "      <td>0.0</td>\n",
       "      <td>49278.030000</td>\n",
       "    </tr>\n",
       "    <tr>\n",
       "      <th>2</th>\n",
       "      <td>2.0</td>\n",
       "      <td>23.0</td>\n",
       "      <td>0.0</td>\n",
       "      <td>0.0</td>\n",
       "      <td>0.0</td>\n",
       "      <td>0.0</td>\n",
       "      <td>0.0</td>\n",
       "      <td>0.0</td>\n",
       "      <td>0.0</td>\n",
       "      <td>0.0</td>\n",
       "      <td>...</td>\n",
       "      <td>2.07</td>\n",
       "      <td>0.0</td>\n",
       "      <td>0.0</td>\n",
       "      <td>0.00</td>\n",
       "      <td>0.0</td>\n",
       "      <td>0.0</td>\n",
       "      <td>0.00</td>\n",
       "      <td>0.0</td>\n",
       "      <td>0.0</td>\n",
       "      <td>67333.770000</td>\n",
       "    </tr>\n",
       "    <tr>\n",
       "      <th>3</th>\n",
       "      <td>2.0</td>\n",
       "      <td>37.0</td>\n",
       "      <td>0.0</td>\n",
       "      <td>195.0</td>\n",
       "      <td>195.0</td>\n",
       "      <td>0.0</td>\n",
       "      <td>0.0</td>\n",
       "      <td>0.0</td>\n",
       "      <td>0.0</td>\n",
       "      <td>0.0</td>\n",
       "      <td>...</td>\n",
       "      <td>138.84</td>\n",
       "      <td>0.0</td>\n",
       "      <td>0.0</td>\n",
       "      <td>0.00</td>\n",
       "      <td>0.0</td>\n",
       "      <td>0.0</td>\n",
       "      <td>0.00</td>\n",
       "      <td>0.0</td>\n",
       "      <td>0.0</td>\n",
       "      <td>64007.970000</td>\n",
       "    </tr>\n",
       "    <tr>\n",
       "      <th>4</th>\n",
       "      <td>2.0</td>\n",
       "      <td>39.0</td>\n",
       "      <td>0.0</td>\n",
       "      <td>0.0</td>\n",
       "      <td>0.0</td>\n",
       "      <td>0.0</td>\n",
       "      <td>0.0</td>\n",
       "      <td>0.0</td>\n",
       "      <td>0.0</td>\n",
       "      <td>0.0</td>\n",
       "      <td>...</td>\n",
       "      <td>13501.47</td>\n",
       "      <td>0.0</td>\n",
       "      <td>0.0</td>\n",
       "      <td>0.00</td>\n",
       "      <td>0.0</td>\n",
       "      <td>0.0</td>\n",
       "      <td>0.00</td>\n",
       "      <td>0.0</td>\n",
       "      <td>0.0</td>\n",
       "      <td>117310.979016</td>\n",
       "    </tr>\n",
       "    <tr>\n",
       "      <th>...</th>\n",
       "      <td>...</td>\n",
       "      <td>...</td>\n",
       "      <td>...</td>\n",
       "      <td>...</td>\n",
       "      <td>...</td>\n",
       "      <td>...</td>\n",
       "      <td>...</td>\n",
       "      <td>...</td>\n",
       "      <td>...</td>\n",
       "      <td>...</td>\n",
       "      <td>...</td>\n",
       "      <td>...</td>\n",
       "      <td>...</td>\n",
       "      <td>...</td>\n",
       "      <td>...</td>\n",
       "      <td>...</td>\n",
       "      <td>...</td>\n",
       "      <td>...</td>\n",
       "      <td>...</td>\n",
       "      <td>...</td>\n",
       "      <td>...</td>\n",
       "    </tr>\n",
       "    <tr>\n",
       "      <th>76015</th>\n",
       "      <td>2.0</td>\n",
       "      <td>48.0</td>\n",
       "      <td>0.0</td>\n",
       "      <td>0.0</td>\n",
       "      <td>0.0</td>\n",
       "      <td>0.0</td>\n",
       "      <td>0.0</td>\n",
       "      <td>0.0</td>\n",
       "      <td>0.0</td>\n",
       "      <td>0.0</td>\n",
       "      <td>...</td>\n",
       "      <td>0.00</td>\n",
       "      <td>0.0</td>\n",
       "      <td>0.0</td>\n",
       "      <td>0.00</td>\n",
       "      <td>0.0</td>\n",
       "      <td>0.0</td>\n",
       "      <td>0.00</td>\n",
       "      <td>0.0</td>\n",
       "      <td>0.0</td>\n",
       "      <td>60926.490000</td>\n",
       "    </tr>\n",
       "    <tr>\n",
       "      <th>76016</th>\n",
       "      <td>2.0</td>\n",
       "      <td>39.0</td>\n",
       "      <td>0.0</td>\n",
       "      <td>0.0</td>\n",
       "      <td>0.0</td>\n",
       "      <td>0.0</td>\n",
       "      <td>0.0</td>\n",
       "      <td>0.0</td>\n",
       "      <td>0.0</td>\n",
       "      <td>0.0</td>\n",
       "      <td>...</td>\n",
       "      <td>0.00</td>\n",
       "      <td>0.0</td>\n",
       "      <td>0.0</td>\n",
       "      <td>15498.42</td>\n",
       "      <td>0.0</td>\n",
       "      <td>0.0</td>\n",
       "      <td>0.00</td>\n",
       "      <td>0.0</td>\n",
       "      <td>0.0</td>\n",
       "      <td>118634.520000</td>\n",
       "    </tr>\n",
       "    <tr>\n",
       "      <th>76017</th>\n",
       "      <td>2.0</td>\n",
       "      <td>23.0</td>\n",
       "      <td>0.0</td>\n",
       "      <td>0.0</td>\n",
       "      <td>0.0</td>\n",
       "      <td>0.0</td>\n",
       "      <td>0.0</td>\n",
       "      <td>0.0</td>\n",
       "      <td>0.0</td>\n",
       "      <td>0.0</td>\n",
       "      <td>...</td>\n",
       "      <td>3.00</td>\n",
       "      <td>0.0</td>\n",
       "      <td>0.0</td>\n",
       "      <td>0.00</td>\n",
       "      <td>0.0</td>\n",
       "      <td>0.0</td>\n",
       "      <td>0.00</td>\n",
       "      <td>0.0</td>\n",
       "      <td>0.0</td>\n",
       "      <td>74028.150000</td>\n",
       "    </tr>\n",
       "    <tr>\n",
       "      <th>76018</th>\n",
       "      <td>2.0</td>\n",
       "      <td>25.0</td>\n",
       "      <td>0.0</td>\n",
       "      <td>0.0</td>\n",
       "      <td>0.0</td>\n",
       "      <td>0.0</td>\n",
       "      <td>0.0</td>\n",
       "      <td>0.0</td>\n",
       "      <td>0.0</td>\n",
       "      <td>0.0</td>\n",
       "      <td>...</td>\n",
       "      <td>2.58</td>\n",
       "      <td>0.0</td>\n",
       "      <td>0.0</td>\n",
       "      <td>0.00</td>\n",
       "      <td>0.0</td>\n",
       "      <td>0.0</td>\n",
       "      <td>0.00</td>\n",
       "      <td>0.0</td>\n",
       "      <td>0.0</td>\n",
       "      <td>84278.160000</td>\n",
       "    </tr>\n",
       "    <tr>\n",
       "      <th>76019</th>\n",
       "      <td>2.0</td>\n",
       "      <td>46.0</td>\n",
       "      <td>0.0</td>\n",
       "      <td>0.0</td>\n",
       "      <td>0.0</td>\n",
       "      <td>0.0</td>\n",
       "      <td>0.0</td>\n",
       "      <td>0.0</td>\n",
       "      <td>0.0</td>\n",
       "      <td>0.0</td>\n",
       "      <td>...</td>\n",
       "      <td>0.00</td>\n",
       "      <td>0.0</td>\n",
       "      <td>0.0</td>\n",
       "      <td>0.00</td>\n",
       "      <td>0.0</td>\n",
       "      <td>0.0</td>\n",
       "      <td>0.00</td>\n",
       "      <td>0.0</td>\n",
       "      <td>0.0</td>\n",
       "      <td>117310.979016</td>\n",
       "    </tr>\n",
       "  </tbody>\n",
       "</table>\n",
       "<p>76020 rows × 119 columns</p>\n",
       "</div>"
      ],
      "text/plain": [
       "       var3  var15  imp_ent_var16_ult1  imp_op_var39_comer_ult1  \\\n",
       "0       2.0   23.0                 0.0                      0.0   \n",
       "1       2.0   34.0                 0.0                      0.0   \n",
       "2       2.0   23.0                 0.0                      0.0   \n",
       "3       2.0   37.0                 0.0                    195.0   \n",
       "4       2.0   39.0                 0.0                      0.0   \n",
       "...     ...    ...                 ...                      ...   \n",
       "76015   2.0   48.0                 0.0                      0.0   \n",
       "76016   2.0   39.0                 0.0                      0.0   \n",
       "76017   2.0   23.0                 0.0                      0.0   \n",
       "76018   2.0   25.0                 0.0                      0.0   \n",
       "76019   2.0   46.0                 0.0                      0.0   \n",
       "\n",
       "       imp_op_var39_comer_ult3  imp_op_var40_comer_ult1  \\\n",
       "0                          0.0                      0.0   \n",
       "1                          0.0                      0.0   \n",
       "2                          0.0                      0.0   \n",
       "3                        195.0                      0.0   \n",
       "4                          0.0                      0.0   \n",
       "...                        ...                      ...   \n",
       "76015                      0.0                      0.0   \n",
       "76016                      0.0                      0.0   \n",
       "76017                      0.0                      0.0   \n",
       "76018                      0.0                      0.0   \n",
       "76019                      0.0                      0.0   \n",
       "\n",
       "       imp_op_var40_comer_ult3  imp_op_var40_efect_ult1  imp_op_var40_ult1  \\\n",
       "0                          0.0                      0.0                0.0   \n",
       "1                          0.0                      0.0                0.0   \n",
       "2                          0.0                      0.0                0.0   \n",
       "3                          0.0                      0.0                0.0   \n",
       "4                          0.0                      0.0                0.0   \n",
       "...                        ...                      ...                ...   \n",
       "76015                      0.0                      0.0                0.0   \n",
       "76016                      0.0                      0.0                0.0   \n",
       "76017                      0.0                      0.0                0.0   \n",
       "76018                      0.0                      0.0                0.0   \n",
       "76019                      0.0                      0.0                0.0   \n",
       "\n",
       "       imp_op_var41_efect_ult1  ...  saldo_medio_var5_ult3  \\\n",
       "0                          0.0  ...                   0.00   \n",
       "1                          0.0  ...                   0.00   \n",
       "2                          0.0  ...                   2.07   \n",
       "3                          0.0  ...                 138.84   \n",
       "4                          0.0  ...               13501.47   \n",
       "...                        ...  ...                    ...   \n",
       "76015                      0.0  ...                   0.00   \n",
       "76016                      0.0  ...                   0.00   \n",
       "76017                      0.0  ...                   3.00   \n",
       "76018                      0.0  ...                   2.58   \n",
       "76019                      0.0  ...                   0.00   \n",
       "\n",
       "       saldo_medio_var8_hace2  saldo_medio_var8_hace3  \\\n",
       "0                         0.0                     0.0   \n",
       "1                         0.0                     0.0   \n",
       "2                         0.0                     0.0   \n",
       "3                         0.0                     0.0   \n",
       "4                         0.0                     0.0   \n",
       "...                       ...                     ...   \n",
       "76015                     0.0                     0.0   \n",
       "76016                     0.0                     0.0   \n",
       "76017                     0.0                     0.0   \n",
       "76018                     0.0                     0.0   \n",
       "76019                     0.0                     0.0   \n",
       "\n",
       "       saldo_medio_var12_hace2  saldo_medio_var12_hace3  \\\n",
       "0                         0.00                      0.0   \n",
       "1                         0.00                      0.0   \n",
       "2                         0.00                      0.0   \n",
       "3                         0.00                      0.0   \n",
       "4                         0.00                      0.0   \n",
       "...                        ...                      ...   \n",
       "76015                     0.00                      0.0   \n",
       "76016                 15498.42                      0.0   \n",
       "76017                     0.00                      0.0   \n",
       "76018                     0.00                      0.0   \n",
       "76019                     0.00                      0.0   \n",
       "\n",
       "       saldo_medio_var13_corto_hace2  saldo_medio_var13_corto_hace3  \\\n",
       "0                                0.0                           0.00   \n",
       "1                              300.0                         122.22   \n",
       "2                                0.0                           0.00   \n",
       "3                                0.0                           0.00   \n",
       "4                                0.0                           0.00   \n",
       "...                              ...                            ...   \n",
       "76015                            0.0                           0.00   \n",
       "76016                            0.0                           0.00   \n",
       "76017                            0.0                           0.00   \n",
       "76018                            0.0                           0.00   \n",
       "76019                            0.0                           0.00   \n",
       "\n",
       "       saldo_medio_var13_largo_hace2  saldo_medio_var44_hace2          var38  \n",
       "0                                0.0                      0.0   39205.170000  \n",
       "1                                0.0                      0.0   49278.030000  \n",
       "2                                0.0                      0.0   67333.770000  \n",
       "3                                0.0                      0.0   64007.970000  \n",
       "4                                0.0                      0.0  117310.979016  \n",
       "...                              ...                      ...            ...  \n",
       "76015                            0.0                      0.0   60926.490000  \n",
       "76016                            0.0                      0.0  118634.520000  \n",
       "76017                            0.0                      0.0   74028.150000  \n",
       "76018                            0.0                      0.0   84278.160000  \n",
       "76019                            0.0                      0.0  117310.979016  \n",
       "\n",
       "[76020 rows x 119 columns]"
      ]
     },
     "execution_count": 27,
     "metadata": {},
     "output_type": "execute_result"
    }
   ],
   "source": [
    "X_train_sel3 = X_train_sel2[df_importance.index]\n",
    "\n",
    "X_train_sel3"
   ]
  },
  {
   "cell_type": "markdown",
   "id": "fc9c4012",
   "metadata": {},
   "source": [
    "Após 3 técnicas de Feature Extraction, sobraram 119 features consideradas importantes.\n",
    "\n",
    "Para reduzir ainda mais a dimensionalidade, será feita uma comparação do uso de diferentes quantidades de features."
   ]
  },
  {
   "cell_type": "code",
   "execution_count": 28,
   "id": "ecb5f342",
   "metadata": {
    "scrolled": true
   },
   "outputs": [
    {
     "name": "stdout",
     "output_type": "stream",
     "text": [
      "ROC AUC: 0.7543525942781226 (+/- 0.012804304655185972), 119 features utilizadas.\n",
      "ROC AUC: 0.7693315847786153 (+/- 0.013164348584891003), 59 features utilizadas.\n",
      "ROC AUC: 0.7690555132489375 (+/- 0.016159733176562364), 39 features utilizadas.\n",
      "ROC AUC: 0.7693745411288162 (+/- 0.01737486627857514), 29 features utilizadas.\n",
      "ROC AUC: 0.7739165253609379 (+/- 0.015871271744270235), 23 features utilizadas.\n",
      "ROC AUC: 0.7025525384497253 (+/- 0.0160861750256168), 11 features utilizadas.\n"
     ]
    }
   ],
   "source": [
    "for i in [1, 2, 3, 4, 5, 10]:\n",
    "    selected_features = df_importance.iloc[:df_importance.shape[0]//i,:].index\n",
    "    x_train = X_train[selected_features].values\n",
    "    RF_model = RandomForestClassifier()\n",
    "    scores = cross_val_score(RF_model, x_train, y_train, cv=5, scoring='roc_auc')\n",
    "\n",
    "    print(f\"ROC AUC: {scores.mean()} (+/- {scores.std()}), {len(selected_features)} features utilizadas.\")"
   ]
  },
  {
   "cell_type": "markdown",
   "id": "2927408e",
   "metadata": {},
   "source": [
    "A utilização de 23 features obteve a maior média de ROC AUC, apesar do desvio padrão ser um pouco maior que o uso de 60 features. No entanto, a menor dimensionalidade também é vantajosa em tempo de treinamento e explicabilidade do modelo, então serão adotadas 23 features para o modelo final."
   ]
  },
  {
   "cell_type": "code",
   "execution_count": 30,
   "id": "66b9a764",
   "metadata": {
    "scrolled": true
   },
   "outputs": [
    {
     "data": {
      "text/plain": [
       "Index(['var3', 'var15', 'imp_ent_var16_ult1', 'imp_op_var39_comer_ult1',\n",
       "       'imp_op_var39_comer_ult3', 'imp_op_var40_comer_ult1',\n",
       "       'imp_op_var40_comer_ult3', 'imp_op_var40_efect_ult1',\n",
       "       'imp_op_var40_ult1', 'imp_op_var41_efect_ult1',\n",
       "       'imp_op_var41_efect_ult3', 'imp_op_var41_ult1', 'imp_sal_var16_ult1',\n",
       "       'ind_var1_0', 'ind_var5_0', 'ind_var5', 'ind_var8_0', 'ind_var12_0',\n",
       "       'ind_var12', 'ind_var13_0', 'ind_var13_largo_0', 'ind_var14_0',\n",
       "       'ind_var24_0'],\n",
       "      dtype='object')"
      ]
     },
     "execution_count": 30,
     "metadata": {},
     "output_type": "execute_result"
    }
   ],
   "source": [
    "num_features = 23\n",
    "selected_features = df_importance.iloc[:num_features,:].index\n",
    "\n",
    "selected_features"
   ]
  },
  {
   "cell_type": "code",
   "execution_count": 31,
   "id": "d261f576",
   "metadata": {},
   "outputs": [],
   "source": [
    "x_train = X_train[selected_features].values"
   ]
  },
  {
   "cell_type": "code",
   "execution_count": 32,
   "id": "4603d2f7",
   "metadata": {},
   "outputs": [
    {
     "data": {
      "text/plain": [
       "(76020, 23)"
      ]
     },
     "execution_count": 32,
     "metadata": {},
     "output_type": "execute_result"
    }
   ],
   "source": [
    "x_train.shape"
   ]
  },
  {
   "cell_type": "markdown",
   "id": "fa62e0dd",
   "metadata": {},
   "source": [
    "Agora, será realizado o treinamento de alguns diferentes modelos, considerando diferentes técnicas de Pré-Processamento e diferentes algoritmos."
   ]
  },
  {
   "cell_type": "markdown",
   "id": "e0751157",
   "metadata": {},
   "source": [
    "# Variável target - Desbalanceamento de classes\n",
    "\n",
    "Quando os dados possuem muito mais registros de uma das classes de saída que de outras, os modelos de Machine Learning podem aprender mais sobre aquela classe do que as outras, e então ter performances muito diferentes para cada uma das classes. Algumas técnicas para lidar com desbalanceamento de classe incluem a eliminação de registros da classe majoritária com _undersamplers_, geração de dados sintéticos com _oversamplers_, como o SMOTE, que será usado mais adiante, ou mesmo o ajuste de algum parâmetro em algoritmos mais robustos a esse tipo de problema.\n",
    "\n",
    "O presente conjunto de dados sofre de desbalanceamento de classes, como pode ser visto no gráfico:"
   ]
  },
  {
   "cell_type": "code",
   "execution_count": 33,
   "id": "6d1a7a59",
   "metadata": {
    "scrolled": true
   },
   "outputs": [
    {
     "data": {
      "image/png": "[encoded data removed]",
      "text/plain": [
       "<Figure size 640x480 with 1 Axes>"
      ]
     },
     "metadata": {},
     "output_type": "display_data"
    }
   ],
   "source": [
    "sns.countplot(x = y_train)\n",
    "plt.title('Distribuição da variável target - sem balanceamento de classes');"
   ]
  },
  {
   "cell_type": "markdown",
   "id": "9b79ada9",
   "metadata": {},
   "source": [
    "A aplicação de um oversampler, como o SMOTE, pode ser a solução para equilibrar as classes minoritária e majoritária. No entanto, outras técnicas também serão testadas. \n",
    "\n",
    "O gráfico abaixo ilustra o funcionamento do SMOTE."
   ]
  },
  {
   "cell_type": "code",
   "execution_count": 34,
   "id": "3b5a85e6",
   "metadata": {},
   "outputs": [],
   "source": [
    "# Aplicação de SMOTE\n",
    "oversample = SMOTE()\n",
    "X_resample, y_resample = oversample.fit_resample(x_train, y_train)"
   ]
  },
  {
   "cell_type": "code",
   "execution_count": 35,
   "id": "3ed677de",
   "metadata": {},
   "outputs": [
    {
     "data": {
      "image/png": "[encoded data removed]",
      "text/plain": [
       "<Figure size 640x480 with 1 Axes>"
      ]
     },
     "metadata": {},
     "output_type": "display_data"
    }
   ],
   "source": [
    "sns.countplot(x = y_resample)\n",
    "plt.title('Distribuição da variável target - com aplicação de SMOTE');"
   ]
  },
  {
   "cell_type": "markdown",
   "id": "9a88fc19",
   "metadata": {},
   "source": [
    "# Pipeline de Machine Learning"
   ]
  },
  {
   "cell_type": "markdown",
   "id": "db66310d",
   "metadata": {},
   "source": [
    "Há diferentes técnicas de pré-processamento e diferentes modelos de Machine Learning que podem ser utilizados. Serão testadas algumas combinações, incluindo uso de:\n",
    "\n",
    "*Pré-Processamento:*\n",
    "\n",
    "* Padronização\n",
    "* Normalização\n",
    "\n",
    "*Balanceamento de classes:*\n",
    "\n",
    "* SMOTE\n",
    "\n",
    "*Modelos de Machine Learning:*\n",
    "* RandomForestClassifier\n",
    "* XGBoostClassifier\n",
    "* Linear Discriminant Analysis"
   ]
  },
  {
   "cell_type": "code",
   "execution_count": 36,
   "id": "83a00388",
   "metadata": {},
   "outputs": [],
   "source": [
    "def train_and_score_model(model, x, y, scale = False, normalize = False, smote = False):\n",
    "# Função que recebe o tipo de algoritmo \n",
    "    \n",
    "    # Exception\n",
    "    if scale and normalize:\n",
    "        raise Exception(\"Choose either scale or normalize.\")\n",
    "    \n",
    "    # Escolha do Pipeline\n",
    "    if scale:\n",
    "        if smote:\n",
    "            pipeline = make_pipeline(StandardScaler(), SMOTE(), model)\n",
    "        else:\n",
    "            pipeline = make_pipeline(StandardScaler(), model)\n",
    "    elif normalize:\n",
    "        if smote:\n",
    "            pipeline = make_pipeline(MinMaxScaler(), SMOTE(), model)\n",
    "        else:\n",
    "            pipeline = make_pipeline(MinMaxScaler(), model)\n",
    "    else:\n",
    "        pipeline = make_pipeline(model)\n",
    "    \n",
    "    # Fit\n",
    "    fitted_model = pipeline.fit(x, y)\n",
    "    \n",
    "    # Scoring\n",
    "    scores = cross_val_score(fitted_model, x_train, y_train, cv=5, scoring='roc_auc')\n",
    "    \n",
    "    # Dict\n",
    "    model_dict = {\"Modelo\": model, \n",
    "                  \"Scale\": scale,\n",
    "                  \"Normalize\": normalize,\n",
    "                  \"SMOTE\": smote,\n",
    "                  \"ROC AUC\": scores.mean()}\n",
    "    \n",
    "    for key, value in model_dict.items():\n",
    "        print(f\"{key}: {value}\\n\")\n",
    "    \n",
    "    # Dataframe\n",
    "    model_df = pd.DataFrame([model_dict])\n",
    "    \n",
    "    return fitted_model, model_df"
   ]
  },
  {
   "cell_type": "code",
   "execution_count": 37,
   "id": "b3ea03b2",
   "metadata": {},
   "outputs": [],
   "source": [
    "def validation_score(model, x, y):\n",
    "    predictions = model.predict(x)\n",
    "    return roc_auc_score(y, predictions) "
   ]
  },
  {
   "cell_type": "code",
   "execution_count": 38,
   "id": "1fddb27a",
   "metadata": {},
   "outputs": [],
   "source": [
    "# Cópia dos dados de treino\n",
    "pre_split_x_train = x_train.copy()\n",
    "pre_split_y_train = y_train.copy()\n",
    "\n",
    "# Divisão em dados de treino e validação\n",
    "x_train, x_valid, y_train, y_valid = train_test_split(x_train, y_train, test_size=0.2)"
   ]
  },
  {
   "cell_type": "markdown",
   "id": "a50ee3d8",
   "metadata": {},
   "source": [
    "## Modelo 1 - Random Forest"
   ]
  },
  {
   "cell_type": "code",
   "execution_count": 39,
   "id": "f121084f",
   "metadata": {
    "scrolled": true
   },
   "outputs": [
    {
     "name": "stdout",
     "output_type": "stream",
     "text": [
      "Modelo: RandomForestClassifier()\n",
      "\n",
      "Scale: False\n",
      "\n",
      "Normalize: False\n",
      "\n",
      "SMOTE: False\n",
      "\n",
      "ROC AUC: 0.7720269978674172\n",
      "\n"
     ]
    }
   ],
   "source": [
    "model1, model_df1 = train_and_score_model(RandomForestClassifier(), x_train, y_train)"
   ]
  },
  {
   "cell_type": "markdown",
   "id": "dd37f0fe",
   "metadata": {},
   "source": [
    "## Modelo 2 - Random Forest + Scale"
   ]
  },
  {
   "cell_type": "code",
   "execution_count": 40,
   "id": "514bd3c9",
   "metadata": {},
   "outputs": [
    {
     "name": "stdout",
     "output_type": "stream",
     "text": [
      "Modelo: RandomForestClassifier()\n",
      "\n",
      "Scale: True\n",
      "\n",
      "Normalize: False\n",
      "\n",
      "SMOTE: False\n",
      "\n",
      "ROC AUC: 0.7708307391575404\n",
      "\n"
     ]
    }
   ],
   "source": [
    "model2, model_df2 = train_and_score_model(RandomForestClassifier(), x_train, y_train, scale = True)"
   ]
  },
  {
   "cell_type": "markdown",
   "id": "1007b1b2",
   "metadata": {},
   "source": [
    "## Modelo 3 - Random Forest + Scale + SMOTE"
   ]
  },
  {
   "cell_type": "code",
   "execution_count": 41,
   "id": "950d33ab",
   "metadata": {},
   "outputs": [
    {
     "name": "stdout",
     "output_type": "stream",
     "text": [
      "Modelo: RandomForestClassifier()\n",
      "\n",
      "Scale: True\n",
      "\n",
      "Normalize: False\n",
      "\n",
      "SMOTE: True\n",
      "\n",
      "ROC AUC: 0.7513863824596795\n",
      "\n"
     ]
    }
   ],
   "source": [
    "model3, model_df3 = train_and_score_model(RandomForestClassifier(), x_train, y_train, scale = True, smote = True)"
   ]
  },
  {
   "cell_type": "markdown",
   "id": "f3d36963",
   "metadata": {},
   "source": [
    "## Modelo 4 - Random Forest + Normalize"
   ]
  },
  {
   "cell_type": "code",
   "execution_count": 42,
   "id": "38e4b0cc",
   "metadata": {},
   "outputs": [
    {
     "name": "stdout",
     "output_type": "stream",
     "text": [
      "Modelo: RandomForestClassifier()\n",
      "\n",
      "Scale: False\n",
      "\n",
      "Normalize: True\n",
      "\n",
      "SMOTE: False\n",
      "\n",
      "ROC AUC: 0.7719958749343313\n",
      "\n"
     ]
    }
   ],
   "source": [
    "model4, model_df4 = train_and_score_model(RandomForestClassifier(), x_train, y_train, normalize = True)"
   ]
  },
  {
   "cell_type": "markdown",
   "id": "2a2176bd",
   "metadata": {},
   "source": [
    "## Modelo 5- Random Forest + Normalize + SMOTE"
   ]
  },
  {
   "cell_type": "code",
   "execution_count": 43,
   "id": "43cbb329",
   "metadata": {
    "scrolled": true
   },
   "outputs": [
    {
     "name": "stdout",
     "output_type": "stream",
     "text": [
      "Modelo: RandomForestClassifier()\n",
      "\n",
      "Scale: False\n",
      "\n",
      "Normalize: True\n",
      "\n",
      "SMOTE: True\n",
      "\n",
      "ROC AUC: 0.7644270585493491\n",
      "\n"
     ]
    }
   ],
   "source": [
    "model5, model_df5 = train_and_score_model(RandomForestClassifier(), x_train, y_train, normalize = True, smote = True)"
   ]
  },
  {
   "cell_type": "markdown",
   "id": "a330bc3f",
   "metadata": {},
   "source": [
    "## Modelo 6 - XGBoost"
   ]
  },
  {
   "cell_type": "code",
   "execution_count": 44,
   "id": "986e8157",
   "metadata": {},
   "outputs": [
    {
     "name": "stdout",
     "output_type": "stream",
     "text": [
      "Modelo: XGBClassifier(base_score=None, booster=None, callbacks=None,\n",
      "              colsample_bylevel=None, colsample_bynode=None,\n",
      "              colsample_bytree=None, early_stopping_rounds=None,\n",
      "              enable_categorical=False, eval_metric=None, feature_types=None,\n",
      "              gamma=None, gpu_id=None, grow_policy=None, importance_type=None,\n",
      "              interaction_constraints=None, learning_rate=None, max_bin=None,\n",
      "              max_cat_threshold=None, max_cat_to_onehot=None,\n",
      "              max_delta_step=None, max_depth=None, max_leaves=None,\n",
      "              min_child_weight=None, missing=nan, monotone_constraints=None,\n",
      "              n_estimators=100, n_jobs=None, num_parallel_tree=None,\n",
      "              predictor=None, random_state=None, ...)\n",
      "\n",
      "Scale: False\n",
      "\n",
      "Normalize: False\n",
      "\n",
      "SMOTE: False\n",
      "\n",
      "ROC AUC: 0.7965771940437412\n",
      "\n"
     ]
    }
   ],
   "source": [
    "model6, model_df6 = train_and_score_model(XGBClassifier(), x_train, y_train)"
   ]
  },
  {
   "cell_type": "markdown",
   "id": "c86ee533",
   "metadata": {},
   "source": [
    "O modelo XGBoost, mesmo sem scaling, normalizing ou SMOTE já obteve um desempenho de ROC AUC em Cross-Validation melhor que em todas os modelos do Random Forest. \n",
    "\n",
    "É preciso testar com o dataset de validação para garantir que não há overfitting."
   ]
  },
  {
   "cell_type": "code",
   "execution_count": 45,
   "id": "f96cda0d",
   "metadata": {},
   "outputs": [
    {
     "data": {
      "text/plain": [
       "0.5006759185420355"
      ]
     },
     "execution_count": 45,
     "metadata": {},
     "output_type": "execute_result"
    }
   ],
   "source": [
    "validation_score(model6, x_valid, y_valid)"
   ]
  },
  {
   "cell_type": "markdown",
   "id": "3bd91fd2",
   "metadata": {},
   "source": [
    "O ROC AUC em validação está muito mais baixo que o do cross-validation. Isso significa que o modelo está com overfitting. O XGBoost possui alguns parâmetros que podem ajudar a evitar esse problema.\n",
    "\n",
    "O parâmetro scale_pos_weight é geralmente ajustado para o valor da proporção entre a classe positiva (1) e a classe negativa (0) da variável target. Isso não só evita o overfitting, como evita a necessidade de utilizar uma técnica de oversampling, como o SMOTE."
   ]
  },
  {
   "cell_type": "code",
   "execution_count": 46,
   "id": "a4976fb7",
   "metadata": {},
   "outputs": [
    {
     "data": {
      "text/plain": [
       "array([73012,  3008], dtype=int64)"
      ]
     },
     "execution_count": 46,
     "metadata": {},
     "output_type": "execute_result"
    }
   ],
   "source": [
    "# Conta as ocorrências dos valores 0 e 1, respectivamente, na variável target\n",
    "np.bincount(pre_split_y_train)"
   ]
  },
  {
   "cell_type": "code",
   "execution_count": 47,
   "id": "9415b3d1",
   "metadata": {},
   "outputs": [
    {
     "data": {
      "text/plain": [
       "array([0.96043147, 0.03956853])"
      ]
     },
     "execution_count": 47,
     "metadata": {},
     "output_type": "execute_result"
    }
   ],
   "source": [
    "# Verifica a proporção da ocorrência dos valores 0 e 1, respectivamente, na variável target\n",
    "np.bincount(pre_split_y_train) / len(pre_split_y_train) # 96 / 4 = 24"
   ]
  },
  {
   "cell_type": "markdown",
   "id": "3a31bbeb",
   "metadata": {},
   "source": [
    "## Modelo 7 - XGBoost com ajuste no parâmetro scale_pos_weight"
   ]
  },
  {
   "cell_type": "code",
   "execution_count": 48,
   "id": "5830877b",
   "metadata": {},
   "outputs": [
    {
     "name": "stdout",
     "output_type": "stream",
     "text": [
      "Modelo: XGBClassifier(base_score=None, booster=None, callbacks=None,\n",
      "              colsample_bylevel=None, colsample_bynode=None,\n",
      "              colsample_bytree=None, early_stopping_rounds=None,\n",
      "              enable_categorical=False, eval_metric=None, feature_types=None,\n",
      "              gamma=None, gpu_id=None, grow_policy=None, importance_type=None,\n",
      "              interaction_constraints=None, learning_rate=None, max_bin=None,\n",
      "              max_cat_threshold=None, max_cat_to_onehot=None,\n",
      "              max_delta_step=None, max_depth=None, max_leaves=None,\n",
      "              min_child_weight=None, missing=nan, monotone_constraints=None,\n",
      "              n_estimators=100, n_jobs=None, num_parallel_tree=None,\n",
      "              predictor=None, random_state=None, ...)\n",
      "\n",
      "Scale: True\n",
      "\n",
      "Normalize: False\n",
      "\n",
      "SMOTE: False\n",
      "\n",
      "ROC AUC: 0.7686650077425448\n",
      "\n"
     ]
    }
   ],
   "source": [
    "model7, score7 = train_and_score_model(XGBClassifier(scale_pos_weight=24), x_train, y_train, scale = True)"
   ]
  },
  {
   "cell_type": "code",
   "execution_count": 49,
   "id": "615bffa6",
   "metadata": {},
   "outputs": [
    {
     "data": {
      "text/plain": [
       "0.7139379987260699"
      ]
     },
     "execution_count": 49,
     "metadata": {},
     "output_type": "execute_result"
    }
   ],
   "source": [
    "validation_score(model7, x_valid, y_valid)"
   ]
  },
  {
   "cell_type": "markdown",
   "id": "330b9aa2",
   "metadata": {},
   "source": [
    "Com o ajuste no scale_pos_weight, foi possível melhorar o ROC AUC em validação e também evitar a necessidade do SMOTE.\n",
    "\n",
    "Será testado mais um algoritmo antes de partir para a otimização de hiperparâmetros."
   ]
  },
  {
   "cell_type": "markdown",
   "id": "28894c79",
   "metadata": {},
   "source": [
    "## Modelo 8 - Linear Discriminant Analysis"
   ]
  },
  {
   "cell_type": "code",
   "execution_count": 50,
   "id": "07801b38",
   "metadata": {},
   "outputs": [
    {
     "name": "stdout",
     "output_type": "stream",
     "text": [
      "Modelo: LinearDiscriminantAnalysis()\n",
      "\n",
      "Scale: False\n",
      "\n",
      "Normalize: False\n",
      "\n",
      "SMOTE: False\n",
      "\n",
      "ROC AUC: 0.7770481044957405\n",
      "\n"
     ]
    }
   ],
   "source": [
    "model8, score8 = train_and_score_model(LinearDiscriminantAnalysis(), x_train, y_train)"
   ]
  },
  {
   "cell_type": "markdown",
   "id": "a53efc94",
   "metadata": {},
   "source": [
    "O ROC AUC do modelo Linear Discriminant Analysis foi bastante próximo ao do XGBoost.\n",
    "\n",
    "Será verificada a métrica em validação."
   ]
  },
  {
   "cell_type": "code",
   "execution_count": 51,
   "id": "bc2e3a5e",
   "metadata": {
    "scrolled": true
   },
   "outputs": [
    {
     "data": {
      "text/plain": [
       "0.5020182262279131"
      ]
     },
     "execution_count": 51,
     "metadata": {},
     "output_type": "execute_result"
    }
   ],
   "source": [
    "validation_score(model8, x_valid, y_valid)"
   ]
  },
  {
   "cell_type": "markdown",
   "id": "2acf4db9",
   "metadata": {},
   "source": [
    "O modelo novamente sofre de overfitting. Pode-se aplicar Scale e SMOTE para tentar tornar o modelo mais generalizável."
   ]
  },
  {
   "cell_type": "markdown",
   "id": "51d8eb86",
   "metadata": {},
   "source": [
    "## Modelo 9 - Linear Discriminant Analysis + Scale + SMOTE"
   ]
  },
  {
   "cell_type": "code",
   "execution_count": 52,
   "id": "ada8ffb7",
   "metadata": {},
   "outputs": [
    {
     "name": "stdout",
     "output_type": "stream",
     "text": [
      "Modelo: LinearDiscriminantAnalysis()\n",
      "\n",
      "Scale: True\n",
      "\n",
      "Normalize: False\n",
      "\n",
      "SMOTE: True\n",
      "\n",
      "ROC AUC: 0.7798872013696647\n",
      "\n"
     ]
    }
   ],
   "source": [
    "model9, score9 = train_and_score_model(LinearDiscriminantAnalysis(), x_train, y_train, scale = True, smote = True)"
   ]
  },
  {
   "cell_type": "code",
   "execution_count": 53,
   "id": "5a02d81f",
   "metadata": {
    "scrolled": true
   },
   "outputs": [
    {
     "data": {
      "text/plain": [
       "0.6928123260257896"
      ]
     },
     "execution_count": 53,
     "metadata": {},
     "output_type": "execute_result"
    }
   ],
   "source": [
    "validation_score(model9, x_valid, y_valid)"
   ]
  },
  {
   "cell_type": "markdown",
   "id": "3e40e30b",
   "metadata": {},
   "source": [
    "A resposta do modelo foi bem melhor, mas ainda foi inferior à performance do XGBoost.\n",
    "\n",
    "O modelo XGBoost será escolhido para o modelo final, após otimização dos hiperparâmetros."
   ]
  },
  {
   "cell_type": "markdown",
   "id": "d262d0af",
   "metadata": {},
   "source": [
    "## Modelo 10 - XGBoost com Otimização de Hiperparâmetros"
   ]
  },
  {
   "cell_type": "code",
   "execution_count": 54,
   "id": "9de52667",
   "metadata": {
    "scrolled": true
   },
   "outputs": [
    {
     "name": "stdout",
     "output_type": "stream",
     "text": [
      "GridSearchCV executou em 8301.68 segundos para todas as combinações de candidatos a parâmetros do modelo.\n"
     ]
    }
   ],
   "source": [
    "param_grid = {\"max_depth\": range(3,8,1),\n",
    "              \"gamma\": [0, 0.1, 0.2, 0.3],\n",
    "              \"n_estimators\": range(100,600,100),\n",
    "              \"learning_rate\": [0.1, 0.2, 0.3, 0.5, 0.7, 1]}\n",
    "    \n",
    "gs = GridSearchCV(XGBClassifier(scale_pos_weight=24), param_grid = param_grid, scoring='roc_auc')\n",
    "\n",
    "start = time.time()\n",
    "modelo_final = gs.fit(x_train, y_train)\n",
    "\n",
    "print(\"GridSearchCV executou em %.2f segundos para todas as combinações de candidatos a parâmetros do modelo.\"\n",
    "      % (time.time() - start))"
   ]
  },
  {
   "cell_type": "code",
   "execution_count": 55,
   "id": "01c5cdef",
   "metadata": {},
   "outputs": [
    {
     "data": {
      "text/plain": [
       "{'gamma': 0, 'learning_rate': 0.1, 'max_depth': 3, 'n_estimators': 100}"
      ]
     },
     "execution_count": 55,
     "metadata": {},
     "output_type": "execute_result"
    }
   ],
   "source": [
    "# Verifica os melhores parâmetros\n",
    "modelo_final.best_params_"
   ]
  },
  {
   "cell_type": "code",
   "execution_count": 56,
   "id": "f47f20c5",
   "metadata": {},
   "outputs": [
    {
     "data": {
      "text/plain": [
       "0.8075490935796841"
      ]
     },
     "execution_count": 56,
     "metadata": {},
     "output_type": "execute_result"
    }
   ],
   "source": [
    "# ROC AUC em Cross-Validation\n",
    "modelo_final.best_score_"
   ]
  },
  {
   "cell_type": "code",
   "execution_count": 57,
   "id": "1ad5c179",
   "metadata": {},
   "outputs": [
    {
     "data": {
      "text/plain": [
       "0.7374463553395558"
      ]
     },
     "execution_count": 57,
     "metadata": {},
     "output_type": "execute_result"
    }
   ],
   "source": [
    "# ROC AUC em Validação\n",
    "validation_score(modelo_final, x_valid, y_valid)"
   ]
  },
  {
   "cell_type": "code",
   "execution_count": 58,
   "id": "ede0c95d",
   "metadata": {},
   "outputs": [
    {
     "data": {
      "image/png": "[encoded data removed]",
      "text/plain": [
       "<Figure size 640x480 with 1 Axes>"
      ]
     },
     "metadata": {},
     "output_type": "display_data"
    }
   ],
   "source": [
    "# Plot da ROC AUC\n",
    "RocCurveDisplay.from_predictions(y_valid, modelo_final.predict(x_valid));"
   ]
  },
  {
   "cell_type": "markdown",
   "id": "fa2250f4",
   "metadata": {},
   "source": [
    "O ROC AUC é de mais de 70%, como era requerimento do projeto, com isso pode-se utilizar o modelo para fazer previsões e entregar o resultado."
   ]
  },
  {
   "cell_type": "markdown",
   "id": "c54f191c",
   "metadata": {},
   "source": [
    "# Prevendo o dataset teste e entregando o resultado\n",
    "\n",
    "Com o modelo pronto, agora é possível fazer a previsão no dataset teste, que não possui a variável target. Todas as transformações que foram feitas no dataset de treino precisam ser feitas no dataset de teste.\n",
    "\n",
    "Como o modelo final não utilizou de nenhuma técnica de pré-processamento, como scaling ou normalização, não é preciso aplicar essas transformações aos dados. Só é preciso selecionar as variáveis escolhidas durante a _Feature Selection_."
   ]
  },
  {
   "cell_type": "code",
   "execution_count": 59,
   "id": "99868a2b",
   "metadata": {},
   "outputs": [],
   "source": [
    "# Lê o dataset de teste\n",
    "df_test = pd.read_csv(\"test.csv\")"
   ]
  },
  {
   "cell_type": "code",
   "execution_count": 60,
   "id": "eec097d8",
   "metadata": {},
   "outputs": [],
   "source": [
    "# Cria o DataFrame entregável\n",
    "submission_df = pd.DataFrame()\n",
    "submission_df['ID'] = df_test['ID']\n",
    "submission_df = submission_df.set_index('ID')\n",
    "\n",
    "# Remove variável ID\n",
    "df_test = df_test.drop(['ID'], axis=1)\n",
    "\n",
    "# Extrai a input com as features selecionadas\n",
    "df_test = df_test[selected_features] \n",
    "\n",
    "# Previsões\n",
    "predictions = modelo_final.predict_proba(df_test.values)\n",
    "\n",
    "# Dataframe entregável\n",
    "submission_df['TARGET'] = predictions[:,1]\n",
    "submission_df.to_csv('submission.csv')"
   ]
  }
 ],
 "metadata": {
  "kernelspec": {
   "display_name": "Python 3 (ipykernel)",
   "language": "python",
   "name": "python3"
  },
  "language_info": {
   "codemirror_mode": {
    "name": "ipython",
    "version": 3
   },
   "file_extension": ".py",
   "mimetype": "text/x-python",
   "name": "python",
   "nbconvert_exporter": "python",
   "pygments_lexer": "ipython3",
   "version": "3.9.16"
  }
 },
 "nbformat": 4,
 "nbformat_minor": 5
}
